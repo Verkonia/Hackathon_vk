{
 "cells": [
  {
   "cell_type": "code",
   "execution_count": 48,
   "metadata": {},
   "outputs": [],
   "source": [
    "import pandas as pd\n",
    "import numpy as np \n",
    "from pathlib import Path\n",
    "import matplotlib.pyplot as plt\n",
    "import seaborn as sns\n",
    "from sklearn.preprocessing import StandardScaler, OneHotEncoder, TargetEncoder\n",
    "from sklearn.compose import ColumnTransformer\n",
    "from sklearn.preprocessing import FunctionTransformer\n",
    "from sklearn.pipeline import Pipeline\n",
    "from tqdm import tqdm\n",
    "import time\n",
    "from sklearn.datasets import make_classification\n",
    "from sklearn.model_selection import train_test_split\n",
    "from sklearn.model_selection import KFold\n",
    "from sklearn.model_selection import cross_val_score\n",
    "from sklearn.ensemble import RandomForestClassifier\n",
    "from sklearn.metrics import accuracy_score\n",
    "from termcolor import colored\n",
    "import ast\n",
    "pd.set_option('display.max_columns', None)"
   ]
  },
  {
   "cell_type": "markdown",
   "metadata": {},
   "source": [
    "# Data loading"
   ]
  },
  {
   "cell_type": "code",
   "execution_count": 3,
   "metadata": {},
   "outputs": [],
   "source": [
    "data_path = Path().absolute().parent/'data'\n",
    "geo_info = pd.read_csv(data_path/'geo_info.csv', sep=';')\n",
    "referer_vectors = pd.read_csv(data_path/'referer_vectors.csv', sep=';')\n",
    "test = pd.read_csv(data_path/'test.csv', sep=';')\n",
    "test_users = pd.read_csv(data_path/'test_users.csv', sep=';')\n",
    "train = pd.read_csv(data_path/'train.csv', sep=';')\n",
    "train_labels = pd.read_csv(data_path/'train_labels.csv', sep=';')"
   ]
  },
  {
   "cell_type": "markdown",
   "metadata": {},
   "source": [
    "# Initial analysis"
   ]
  },
  {
   "cell_type": "code",
   "execution_count": 5,
   "metadata": {},
   "outputs": [
    {
     "name": "stdout",
     "output_type": "stream",
     "text": [
      "<class 'pandas.core.frame.DataFrame'>\n",
      "RangeIndex: 750000 entries, 0 to 749999\n",
      "Data columns (total 5 columns):\n",
      " #   Column      Non-Null Count   Dtype \n",
      "---  ------      --------------   ----- \n",
      " 0   request_ts  750000 non-null  int64 \n",
      " 1   user_id     750000 non-null  object\n",
      " 2   referer     750000 non-null  object\n",
      " 3   geo_id      750000 non-null  int64 \n",
      " 4   user_agent  749999 non-null  object\n",
      "dtypes: int64(2), object(3)\n",
      "memory usage: 28.6+ MB\n"
     ]
    },
    {
     "data": {
      "text/html": [
       "<div>\n",
       "<style scoped>\n",
       "    .dataframe tbody tr th:only-of-type {\n",
       "        vertical-align: middle;\n",
       "    }\n",
       "\n",
       "    .dataframe tbody tr th {\n",
       "        vertical-align: top;\n",
       "    }\n",
       "\n",
       "    .dataframe thead th {\n",
       "        text-align: right;\n",
       "    }\n",
       "</style>\n",
       "<table border=\"1\" class=\"dataframe\">\n",
       "  <thead>\n",
       "    <tr style=\"text-align: right;\">\n",
       "      <th></th>\n",
       "      <th>request_ts</th>\n",
       "      <th>user_id</th>\n",
       "      <th>referer</th>\n",
       "      <th>geo_id</th>\n",
       "      <th>user_agent</th>\n",
       "    </tr>\n",
       "  </thead>\n",
       "  <tbody>\n",
       "    <tr>\n",
       "      <th>23377</th>\n",
       "      <td>1700971638</td>\n",
       "      <td>5bbc4e11a38df9f930f53b8555f628f9</td>\n",
       "      <td>https://6c16abb/</td>\n",
       "      <td>4106</td>\n",
       "      <td>{'browser': 'Chrome Mobile', 'browser_version'...</td>\n",
       "    </tr>\n",
       "    <tr>\n",
       "      <th>618851</th>\n",
       "      <td>1701021574</td>\n",
       "      <td>99ebc50d194b0171856f8a3989c34b17</td>\n",
       "      <td>https://6a81948/1352064b</td>\n",
       "      <td>2740</td>\n",
       "      <td>{'browser': 'YandexSearch', 'browser_version':...</td>\n",
       "    </tr>\n",
       "    <tr>\n",
       "      <th>256424</th>\n",
       "      <td>1701028369</td>\n",
       "      <td>287998cf70cafc059ce82a592c55f989</td>\n",
       "      <td>https://8807153/</td>\n",
       "      <td>3663</td>\n",
       "      <td>{'browser': 'Yandex Browser', 'browser_version...</td>\n",
       "    </tr>\n",
       "    <tr>\n",
       "      <th>635185</th>\n",
       "      <td>1700973333</td>\n",
       "      <td>375438cba012cef31054434ee95618bd</td>\n",
       "      <td>https://8d946e9/</td>\n",
       "      <td>3663</td>\n",
       "      <td>{'browser': 'Yandex Browser', 'browser_version...</td>\n",
       "    </tr>\n",
       "    <tr>\n",
       "      <th>235827</th>\n",
       "      <td>1700992309</td>\n",
       "      <td>45faeb27888cb98602ca41edda867278</td>\n",
       "      <td>https://6a81948/</td>\n",
       "      <td>3663</td>\n",
       "      <td>{'browser': 'YandexSearch', 'browser_version':...</td>\n",
       "    </tr>\n",
       "  </tbody>\n",
       "</table>\n",
       "</div>"
      ],
      "text/plain": [
       "        request_ts                           user_id  \\\n",
       "23377   1700971638  5bbc4e11a38df9f930f53b8555f628f9   \n",
       "618851  1701021574  99ebc50d194b0171856f8a3989c34b17   \n",
       "256424  1701028369  287998cf70cafc059ce82a592c55f989   \n",
       "635185  1700973333  375438cba012cef31054434ee95618bd   \n",
       "235827  1700992309  45faeb27888cb98602ca41edda867278   \n",
       "\n",
       "                         referer  geo_id  \\\n",
       "23377           https://6c16abb/    4106   \n",
       "618851  https://6a81948/1352064b    2740   \n",
       "256424          https://8807153/    3663   \n",
       "635185          https://8d946e9/    3663   \n",
       "235827          https://6a81948/    3663   \n",
       "\n",
       "                                               user_agent  \n",
       "23377   {'browser': 'Chrome Mobile', 'browser_version'...  \n",
       "618851  {'browser': 'YandexSearch', 'browser_version':...  \n",
       "256424  {'browser': 'Yandex Browser', 'browser_version...  \n",
       "635185  {'browser': 'Yandex Browser', 'browser_version...  \n",
       "235827  {'browser': 'YandexSearch', 'browser_version':...  "
      ]
     },
     "metadata": {},
     "output_type": "display_data"
    }
   ],
   "source": [
    "train.info()\n",
    "display(train.sample(5))"
   ]
  },
  {
   "cell_type": "code",
   "execution_count": 6,
   "metadata": {},
   "outputs": [
    {
     "name": "stdout",
     "output_type": "stream",
     "text": [
      "<class 'pandas.core.frame.DataFrame'>\n",
      "RangeIndex: 5533 entries, 0 to 5532\n",
      "Data columns (total 4 columns):\n",
      " #   Column       Non-Null Count  Dtype \n",
      "---  ------       --------------  ----- \n",
      " 0   geo_id       5533 non-null   int64 \n",
      " 1   country_id   5533 non-null   object\n",
      " 2   region_id    3826 non-null   object\n",
      " 3   timezone_id  5533 non-null   object\n",
      "dtypes: int64(1), object(3)\n",
      "memory usage: 173.0+ KB\n"
     ]
    },
    {
     "data": {
      "text/html": [
       "<div>\n",
       "<style scoped>\n",
       "    .dataframe tbody tr th:only-of-type {\n",
       "        vertical-align: middle;\n",
       "    }\n",
       "\n",
       "    .dataframe tbody tr th {\n",
       "        vertical-align: top;\n",
       "    }\n",
       "\n",
       "    .dataframe thead th {\n",
       "        text-align: right;\n",
       "    }\n",
       "</style>\n",
       "<table border=\"1\" class=\"dataframe\">\n",
       "  <thead>\n",
       "    <tr style=\"text-align: right;\">\n",
       "      <th></th>\n",
       "      <th>geo_id</th>\n",
       "      <th>country_id</th>\n",
       "      <th>region_id</th>\n",
       "      <th>timezone_id</th>\n",
       "    </tr>\n",
       "  </thead>\n",
       "  <tbody>\n",
       "    <tr>\n",
       "      <th>333</th>\n",
       "      <td>8864</td>\n",
       "      <td>c31b4e</td>\n",
       "      <td>978f9b</td>\n",
       "      <td>e56e80</td>\n",
       "    </tr>\n",
       "    <tr>\n",
       "      <th>4219</th>\n",
       "      <td>7928</td>\n",
       "      <td>c31b4e</td>\n",
       "      <td>895e40</td>\n",
       "      <td>109a080</td>\n",
       "    </tr>\n",
       "    <tr>\n",
       "      <th>4848</th>\n",
       "      <td>8851</td>\n",
       "      <td>c31b4e</td>\n",
       "      <td>23f9c2</td>\n",
       "      <td>f6155e</td>\n",
       "    </tr>\n",
       "    <tr>\n",
       "      <th>952</th>\n",
       "      <td>4099</td>\n",
       "      <td>1234f1d</td>\n",
       "      <td>3fddc5</td>\n",
       "      <td>1054b86</td>\n",
       "    </tr>\n",
       "    <tr>\n",
       "      <th>894</th>\n",
       "      <td>7357</td>\n",
       "      <td>c31b4e</td>\n",
       "      <td>393070</td>\n",
       "      <td>caf0e9</td>\n",
       "    </tr>\n",
       "  </tbody>\n",
       "</table>\n",
       "</div>"
      ],
      "text/plain": [
       "      geo_id country_id region_id timezone_id\n",
       "333     8864     c31b4e    978f9b      e56e80\n",
       "4219    7928     c31b4e    895e40     109a080\n",
       "4848    8851     c31b4e    23f9c2      f6155e\n",
       "952     4099    1234f1d    3fddc5     1054b86\n",
       "894     7357     c31b4e    393070      caf0e9"
      ]
     },
     "metadata": {},
     "output_type": "display_data"
    }
   ],
   "source": [
    "geo_info.info()\n",
    "display(geo_info.sample(5))"
   ]
  },
  {
   "cell_type": "code",
   "execution_count": 7,
   "metadata": {},
   "outputs": [
    {
     "name": "stdout",
     "output_type": "stream",
     "text": [
      "<class 'pandas.core.frame.DataFrame'>\n",
      "RangeIndex: 200000 entries, 0 to 199999\n",
      "Data columns (total 11 columns):\n",
      " #   Column      Non-Null Count   Dtype \n",
      "---  ------      --------------   ----- \n",
      " 0   component0  200000 non-null  int64 \n",
      " 1   component1  200000 non-null  int64 \n",
      " 2   component2  200000 non-null  int64 \n",
      " 3   component3  200000 non-null  int64 \n",
      " 4   component4  200000 non-null  int64 \n",
      " 5   component5  200000 non-null  int64 \n",
      " 6   component6  200000 non-null  int64 \n",
      " 7   component7  200000 non-null  int64 \n",
      " 8   component8  200000 non-null  int64 \n",
      " 9   component9  200000 non-null  int64 \n",
      " 10  referer     200000 non-null  object\n",
      "dtypes: int64(10), object(1)\n",
      "memory usage: 16.8+ MB\n"
     ]
    },
    {
     "data": {
      "text/html": [
       "<div>\n",
       "<style scoped>\n",
       "    .dataframe tbody tr th:only-of-type {\n",
       "        vertical-align: middle;\n",
       "    }\n",
       "\n",
       "    .dataframe tbody tr th {\n",
       "        vertical-align: top;\n",
       "    }\n",
       "\n",
       "    .dataframe thead th {\n",
       "        text-align: right;\n",
       "    }\n",
       "</style>\n",
       "<table border=\"1\" class=\"dataframe\">\n",
       "  <thead>\n",
       "    <tr style=\"text-align: right;\">\n",
       "      <th></th>\n",
       "      <th>component0</th>\n",
       "      <th>component1</th>\n",
       "      <th>component2</th>\n",
       "      <th>component3</th>\n",
       "      <th>component4</th>\n",
       "      <th>component5</th>\n",
       "      <th>component6</th>\n",
       "      <th>component7</th>\n",
       "      <th>component8</th>\n",
       "      <th>component9</th>\n",
       "      <th>referer</th>\n",
       "    </tr>\n",
       "  </thead>\n",
       "  <tbody>\n",
       "    <tr>\n",
       "      <th>122090</th>\n",
       "      <td>3178</td>\n",
       "      <td>-8881</td>\n",
       "      <td>-15601</td>\n",
       "      <td>-771</td>\n",
       "      <td>22672</td>\n",
       "      <td>-7482</td>\n",
       "      <td>5048</td>\n",
       "      <td>-2905</td>\n",
       "      <td>16708</td>\n",
       "      <td>483</td>\n",
       "      <td>https://9ac1e4f/14c7b880</td>\n",
       "    </tr>\n",
       "    <tr>\n",
       "      <th>50977</th>\n",
       "      <td>15887</td>\n",
       "      <td>3820</td>\n",
       "      <td>12247</td>\n",
       "      <td>-5923</td>\n",
       "      <td>7846</td>\n",
       "      <td>4117</td>\n",
       "      <td>-4582</td>\n",
       "      <td>7102</td>\n",
       "      <td>1027</td>\n",
       "      <td>21651</td>\n",
       "      <td>https://8406d63/1367e2b9</td>\n",
       "    </tr>\n",
       "    <tr>\n",
       "      <th>117277</th>\n",
       "      <td>16623</td>\n",
       "      <td>14986</td>\n",
       "      <td>9767</td>\n",
       "      <td>4100</td>\n",
       "      <td>9178</td>\n",
       "      <td>9722</td>\n",
       "      <td>5279</td>\n",
       "      <td>-90</td>\n",
       "      <td>11836</td>\n",
       "      <td>6096</td>\n",
       "      <td>https://7e89575/12ff734c</td>\n",
       "    </tr>\n",
       "    <tr>\n",
       "      <th>24968</th>\n",
       "      <td>20673</td>\n",
       "      <td>6821</td>\n",
       "      <td>8968</td>\n",
       "      <td>-4219</td>\n",
       "      <td>-2059</td>\n",
       "      <td>9300</td>\n",
       "      <td>1670</td>\n",
       "      <td>1823</td>\n",
       "      <td>2425</td>\n",
       "      <td>19771</td>\n",
       "      <td>https://9c23da0/134134cd</td>\n",
       "    </tr>\n",
       "    <tr>\n",
       "      <th>138235</th>\n",
       "      <td>14606</td>\n",
       "      <td>5272</td>\n",
       "      <td>14823</td>\n",
       "      <td>9692</td>\n",
       "      <td>11690</td>\n",
       "      <td>2922</td>\n",
       "      <td>8469</td>\n",
       "      <td>8414</td>\n",
       "      <td>6190</td>\n",
       "      <td>-13170</td>\n",
       "      <td>https://8406d63/17cd46c8</td>\n",
       "    </tr>\n",
       "  </tbody>\n",
       "</table>\n",
       "</div>"
      ],
      "text/plain": [
       "        component0  component1  component2  component3  component4  \\\n",
       "122090        3178       -8881      -15601        -771       22672   \n",
       "50977        15887        3820       12247       -5923        7846   \n",
       "117277       16623       14986        9767        4100        9178   \n",
       "24968        20673        6821        8968       -4219       -2059   \n",
       "138235       14606        5272       14823        9692       11690   \n",
       "\n",
       "        component5  component6  component7  component8  component9  \\\n",
       "122090       -7482        5048       -2905       16708         483   \n",
       "50977         4117       -4582        7102        1027       21651   \n",
       "117277        9722        5279         -90       11836        6096   \n",
       "24968         9300        1670        1823        2425       19771   \n",
       "138235        2922        8469        8414        6190      -13170   \n",
       "\n",
       "                         referer  \n",
       "122090  https://9ac1e4f/14c7b880  \n",
       "50977   https://8406d63/1367e2b9  \n",
       "117277  https://7e89575/12ff734c  \n",
       "24968   https://9c23da0/134134cd  \n",
       "138235  https://8406d63/17cd46c8  "
      ]
     },
     "metadata": {},
     "output_type": "display_data"
    }
   ],
   "source": [
    "referer_vectors.info()\n",
    "display(referer_vectors.sample(5))"
   ]
  },
  {
   "cell_type": "code",
   "execution_count": 8,
   "metadata": {},
   "outputs": [
    {
     "name": "stdout",
     "output_type": "stream",
     "text": [
      "<class 'pandas.core.frame.DataFrame'>\n",
      "RangeIndex: 500000 entries, 0 to 499999\n",
      "Data columns (total 2 columns):\n",
      " #   Column   Non-Null Count   Dtype \n",
      "---  ------   --------------   ----- \n",
      " 0   user_id  500000 non-null  object\n",
      " 1   target   500000 non-null  int64 \n",
      "dtypes: int64(1), object(1)\n",
      "memory usage: 7.6+ MB\n"
     ]
    },
    {
     "data": {
      "text/html": [
       "<div>\n",
       "<style scoped>\n",
       "    .dataframe tbody tr th:only-of-type {\n",
       "        vertical-align: middle;\n",
       "    }\n",
       "\n",
       "    .dataframe tbody tr th {\n",
       "        vertical-align: top;\n",
       "    }\n",
       "\n",
       "    .dataframe thead th {\n",
       "        text-align: right;\n",
       "    }\n",
       "</style>\n",
       "<table border=\"1\" class=\"dataframe\">\n",
       "  <thead>\n",
       "    <tr style=\"text-align: right;\">\n",
       "      <th></th>\n",
       "      <th>user_id</th>\n",
       "      <th>target</th>\n",
       "    </tr>\n",
       "  </thead>\n",
       "  <tbody>\n",
       "    <tr>\n",
       "      <th>279436</th>\n",
       "      <td>adfe7822d0507448791a9b020e480ac5</td>\n",
       "      <td>1</td>\n",
       "    </tr>\n",
       "    <tr>\n",
       "      <th>266466</th>\n",
       "      <td>4098c0a6abf3e2c0e4b5da6e18d209a3</td>\n",
       "      <td>0</td>\n",
       "    </tr>\n",
       "    <tr>\n",
       "      <th>332792</th>\n",
       "      <td>a7fb9f7c1c9bb5e6dbab1f5f27150d28</td>\n",
       "      <td>0</td>\n",
       "    </tr>\n",
       "    <tr>\n",
       "      <th>99250</th>\n",
       "      <td>7fc28092b0a0c7ceaeda0ea1447ee63e</td>\n",
       "      <td>0</td>\n",
       "    </tr>\n",
       "    <tr>\n",
       "      <th>462302</th>\n",
       "      <td>af9be8685f9f3227e4339387c8737005</td>\n",
       "      <td>1</td>\n",
       "    </tr>\n",
       "  </tbody>\n",
       "</table>\n",
       "</div>"
      ],
      "text/plain": [
       "                                 user_id  target\n",
       "279436  adfe7822d0507448791a9b020e480ac5       1\n",
       "266466  4098c0a6abf3e2c0e4b5da6e18d209a3       0\n",
       "332792  a7fb9f7c1c9bb5e6dbab1f5f27150d28       0\n",
       "99250   7fc28092b0a0c7ceaeda0ea1447ee63e       0\n",
       "462302  af9be8685f9f3227e4339387c8737005       1"
      ]
     },
     "metadata": {},
     "output_type": "display_data"
    }
   ],
   "source": [
    "train_labels.info()\n",
    "display(train_labels.sample(5))"
   ]
  },
  {
   "cell_type": "markdown",
   "metadata": {},
   "source": [
    "# Data Processing"
   ]
  },
  {
   "cell_type": "code",
   "execution_count": 9,
   "metadata": {},
   "outputs": [],
   "source": [
    "# Объединим таблицы\n",
    "train = pd.merge(train, geo_info, on='geo_id')\n",
    "train = pd.merge(train, referer_vectors, on='referer')\n",
    "train = pd.merge(train, train_labels, on='user_id')\n",
    "train = train.drop(['geo_id', 'referer'], axis=1)"
   ]
  },
  {
   "cell_type": "code",
   "execution_count": 10,
   "metadata": {},
   "outputs": [
    {
     "name": "stdout",
     "output_type": "stream",
     "text": [
      "Количество дубликатов: 9454\n"
     ]
    }
   ],
   "source": [
    "# Найдем и удалим дубликаты\n",
    "print('Количество дубликатов:', train.duplicated().sum())\n",
    "train = train.drop_duplicates()"
   ]
  },
  {
   "cell_type": "code",
   "execution_count": 11,
   "metadata": {},
   "outputs": [
    {
     "name": "stdout",
     "output_type": "stream",
     "text": [
      "Кол-во пропусков:\n",
      " request_ts         0\n",
      "user_id            0\n",
      "user_agent         1\n",
      "country_id         0\n",
      "region_id      49903\n",
      "timezone_id        0\n",
      "component0         0\n",
      "component1         0\n",
      "component2         0\n",
      "component3         0\n",
      "component4         0\n",
      "component5         0\n",
      "component6         0\n",
      "component7         0\n",
      "component8         0\n",
      "component9         0\n",
      "target             0\n",
      "dtype: int64\n"
     ]
    }
   ],
   "source": [
    "# Найдем и удалим пропуски\n",
    "print('Кол-во пропусков:\\n', train.isnull().sum())\n",
    "train = train.dropna(axis=0, how='any')"
   ]
  },
  {
   "cell_type": "code",
   "execution_count": 12,
   "metadata": {},
   "outputs": [
    {
     "data": {
      "text/html": [
       "<div>\n",
       "<style scoped>\n",
       "    .dataframe tbody tr th:only-of-type {\n",
       "        vertical-align: middle;\n",
       "    }\n",
       "\n",
       "    .dataframe tbody tr th {\n",
       "        vertical-align: top;\n",
       "    }\n",
       "\n",
       "    .dataframe thead th {\n",
       "        text-align: right;\n",
       "    }\n",
       "</style>\n",
       "<table border=\"1\" class=\"dataframe\">\n",
       "  <thead>\n",
       "    <tr style=\"text-align: right;\">\n",
       "      <th></th>\n",
       "      <th>request_ts</th>\n",
       "      <th>user_id</th>\n",
       "      <th>user_agent</th>\n",
       "      <th>country_id</th>\n",
       "      <th>region_id</th>\n",
       "      <th>timezone_id</th>\n",
       "      <th>component0</th>\n",
       "      <th>component1</th>\n",
       "      <th>component2</th>\n",
       "      <th>component3</th>\n",
       "      <th>component4</th>\n",
       "      <th>component5</th>\n",
       "      <th>component6</th>\n",
       "      <th>component7</th>\n",
       "      <th>component8</th>\n",
       "      <th>component9</th>\n",
       "      <th>target</th>\n",
       "    </tr>\n",
       "  </thead>\n",
       "  <tbody>\n",
       "    <tr>\n",
       "      <th>1</th>\n",
       "      <td>1700986581</td>\n",
       "      <td>46a5f128fd569c764a92c2eaa788095e</td>\n",
       "      <td>{'browser': 'Chrome Mobile', 'browser_version'...</td>\n",
       "      <td>c31b4e</td>\n",
       "      <td>44520b</td>\n",
       "      <td>e56e80</td>\n",
       "      <td>11731</td>\n",
       "      <td>4045</td>\n",
       "      <td>22213</td>\n",
       "      <td>-1184</td>\n",
       "      <td>-8992</td>\n",
       "      <td>9381</td>\n",
       "      <td>-3496</td>\n",
       "      <td>-3120</td>\n",
       "      <td>-899</td>\n",
       "      <td>16817</td>\n",
       "      <td>0</td>\n",
       "    </tr>\n",
       "    <tr>\n",
       "      <th>3</th>\n",
       "      <td>1700992803</td>\n",
       "      <td>af735816ca19115431ae3d89518c8c91</td>\n",
       "      <td>{'browser': 'Chrome Mobile', 'browser_version'...</td>\n",
       "      <td>c31b4e</td>\n",
       "      <td>3c9dca</td>\n",
       "      <td>e56e80</td>\n",
       "      <td>11731</td>\n",
       "      <td>4045</td>\n",
       "      <td>22213</td>\n",
       "      <td>-1184</td>\n",
       "      <td>-8992</td>\n",
       "      <td>9381</td>\n",
       "      <td>-3496</td>\n",
       "      <td>-3120</td>\n",
       "      <td>-899</td>\n",
       "      <td>16817</td>\n",
       "      <td>0</td>\n",
       "    </tr>\n",
       "    <tr>\n",
       "      <th>5</th>\n",
       "      <td>1700956244</td>\n",
       "      <td>b74aaac38e44f90517d3e217fa118cec</td>\n",
       "      <td>{'browser': 'Chrome Mobile', 'browser_version'...</td>\n",
       "      <td>c31b4e</td>\n",
       "      <td>1fbfa5</td>\n",
       "      <td>e56e80</td>\n",
       "      <td>11731</td>\n",
       "      <td>4045</td>\n",
       "      <td>22213</td>\n",
       "      <td>-1184</td>\n",
       "      <td>-8992</td>\n",
       "      <td>9381</td>\n",
       "      <td>-3496</td>\n",
       "      <td>-3120</td>\n",
       "      <td>-899</td>\n",
       "      <td>16817</td>\n",
       "      <td>0</td>\n",
       "    </tr>\n",
       "  </tbody>\n",
       "</table>\n",
       "</div>"
      ],
      "text/plain": [
       "   request_ts                           user_id  \\\n",
       "1  1700986581  46a5f128fd569c764a92c2eaa788095e   \n",
       "3  1700992803  af735816ca19115431ae3d89518c8c91   \n",
       "5  1700956244  b74aaac38e44f90517d3e217fa118cec   \n",
       "\n",
       "                                          user_agent country_id region_id  \\\n",
       "1  {'browser': 'Chrome Mobile', 'browser_version'...     c31b4e    44520b   \n",
       "3  {'browser': 'Chrome Mobile', 'browser_version'...     c31b4e    3c9dca   \n",
       "5  {'browser': 'Chrome Mobile', 'browser_version'...     c31b4e    1fbfa5   \n",
       "\n",
       "  timezone_id  component0  component1  component2  component3  component4  \\\n",
       "1      e56e80       11731        4045       22213       -1184       -8992   \n",
       "3      e56e80       11731        4045       22213       -1184       -8992   \n",
       "5      e56e80       11731        4045       22213       -1184       -8992   \n",
       "\n",
       "   component5  component6  component7  component8  component9  target  \n",
       "1        9381       -3496       -3120        -899       16817       0  \n",
       "3        9381       -3496       -3120        -899       16817       0  \n",
       "5        9381       -3496       -3120        -899       16817       0  "
      ]
     },
     "execution_count": 12,
     "metadata": {},
     "output_type": "execute_result"
    }
   ],
   "source": [
    "train[(train['country_id']=='c31b4e') & (train['timezone_id']=='e56e80')].head(3)"
   ]
  },
  {
   "cell_type": "code",
   "execution_count": 13,
   "metadata": {},
   "outputs": [
    {
     "data": {
      "text/html": [
       "<div>\n",
       "<style scoped>\n",
       "    .dataframe tbody tr th:only-of-type {\n",
       "        vertical-align: middle;\n",
       "    }\n",
       "\n",
       "    .dataframe tbody tr th {\n",
       "        vertical-align: top;\n",
       "    }\n",
       "\n",
       "    .dataframe thead th {\n",
       "        text-align: right;\n",
       "    }\n",
       "</style>\n",
       "<table border=\"1\" class=\"dataframe\">\n",
       "  <thead>\n",
       "    <tr style=\"text-align: right;\">\n",
       "      <th></th>\n",
       "      <th>request_ts</th>\n",
       "      <th>user_id</th>\n",
       "      <th>user_agent</th>\n",
       "      <th>country_id</th>\n",
       "      <th>region_id</th>\n",
       "      <th>timezone_id</th>\n",
       "      <th>component0</th>\n",
       "      <th>component1</th>\n",
       "      <th>component2</th>\n",
       "      <th>component3</th>\n",
       "      <th>component4</th>\n",
       "      <th>component5</th>\n",
       "      <th>component6</th>\n",
       "      <th>component7</th>\n",
       "      <th>component8</th>\n",
       "      <th>component9</th>\n",
       "      <th>target</th>\n",
       "    </tr>\n",
       "  </thead>\n",
       "  <tbody>\n",
       "    <tr>\n",
       "      <th>3</th>\n",
       "      <td>1700992803</td>\n",
       "      <td>af735816ca19115431ae3d89518c8c91</td>\n",
       "      <td>{'browser': 'Chrome Mobile', 'browser_version'...</td>\n",
       "      <td>c31b4e</td>\n",
       "      <td>3c9dca</td>\n",
       "      <td>e56e80</td>\n",
       "      <td>11731</td>\n",
       "      <td>4045</td>\n",
       "      <td>22213</td>\n",
       "      <td>-1184</td>\n",
       "      <td>-8992</td>\n",
       "      <td>9381</td>\n",
       "      <td>-3496</td>\n",
       "      <td>-3120</td>\n",
       "      <td>-899</td>\n",
       "      <td>16817</td>\n",
       "      <td>0</td>\n",
       "    </tr>\n",
       "    <tr>\n",
       "      <th>804</th>\n",
       "      <td>1701023748</td>\n",
       "      <td>5b3cdd0eba30838fb01deb702845cdf4</td>\n",
       "      <td>{'browser': 'Chrome Mobile', 'browser_version'...</td>\n",
       "      <td>c31b4e</td>\n",
       "      <td>3c9dca</td>\n",
       "      <td>e56e80</td>\n",
       "      <td>13294</td>\n",
       "      <td>3884</td>\n",
       "      <td>10452</td>\n",
       "      <td>-1916</td>\n",
       "      <td>11369</td>\n",
       "      <td>6138</td>\n",
       "      <td>-2472</td>\n",
       "      <td>10123</td>\n",
       "      <td>3029</td>\n",
       "      <td>21118</td>\n",
       "      <td>1</td>\n",
       "    </tr>\n",
       "    <tr>\n",
       "      <th>1024</th>\n",
       "      <td>1701019068</td>\n",
       "      <td>18232c8806188f0adeb265e4600223af</td>\n",
       "      <td>{'browser': 'Chrome', 'browser_version': '118....</td>\n",
       "      <td>c31b4e</td>\n",
       "      <td>3c9dca</td>\n",
       "      <td>e56e80</td>\n",
       "      <td>16220</td>\n",
       "      <td>2266</td>\n",
       "      <td>9404</td>\n",
       "      <td>-3442</td>\n",
       "      <td>11485</td>\n",
       "      <td>4129</td>\n",
       "      <td>-3919</td>\n",
       "      <td>6506</td>\n",
       "      <td>2556</td>\n",
       "      <td>21868</td>\n",
       "      <td>0</td>\n",
       "    </tr>\n",
       "  </tbody>\n",
       "</table>\n",
       "</div>"
      ],
      "text/plain": [
       "      request_ts                           user_id  \\\n",
       "3     1700992803  af735816ca19115431ae3d89518c8c91   \n",
       "804   1701023748  5b3cdd0eba30838fb01deb702845cdf4   \n",
       "1024  1701019068  18232c8806188f0adeb265e4600223af   \n",
       "\n",
       "                                             user_agent country_id region_id  \\\n",
       "3     {'browser': 'Chrome Mobile', 'browser_version'...     c31b4e    3c9dca   \n",
       "804   {'browser': 'Chrome Mobile', 'browser_version'...     c31b4e    3c9dca   \n",
       "1024  {'browser': 'Chrome', 'browser_version': '118....     c31b4e    3c9dca   \n",
       "\n",
       "     timezone_id  component0  component1  component2  component3  component4  \\\n",
       "3         e56e80       11731        4045       22213       -1184       -8992   \n",
       "804       e56e80       13294        3884       10452       -1916       11369   \n",
       "1024      e56e80       16220        2266        9404       -3442       11485   \n",
       "\n",
       "      component5  component6  component7  component8  component9  target  \n",
       "3           9381       -3496       -3120        -899       16817       0  \n",
       "804         6138       -2472       10123        3029       21118       1  \n",
       "1024        4129       -3919        6506        2556       21868       0  "
      ]
     },
     "execution_count": 13,
     "metadata": {},
     "output_type": "execute_result"
    }
   ],
   "source": [
    "train[(train['region_id']=='3c9dca')].head(3)"
   ]
  },
  {
   "cell_type": "code",
   "execution_count": 14,
   "metadata": {},
   "outputs": [],
   "source": [
    "train = train.drop(['country_id', 'timezone_id'], axis=1)"
   ]
  },
  {
   "cell_type": "markdown",
   "metadata": {},
   "source": [
    "Признаки country_id и timezone_id не информативны, поскольку при их фиксированных значениях параметр region_id имеет различные значения. А фиксированному region_id соответствуют одни и те же единственные показатели country_id и timezone_id. Поэтому мы можем исключить эти столбцы."
   ]
  },
  {
   "cell_type": "code",
   "execution_count": 16,
   "metadata": {},
   "outputs": [],
   "source": [
    "# Раскроем словарь столбца user_agent\n",
    "list = ['browser', 'browser_version', 'os', 'os_version']\n",
    "for key in list:\n",
    "    train[key] = train['user_agent'].apply(lambda x: ast.literal_eval(x)[key])\n",
    "train = train.drop('user_agent', axis=1)"
   ]
  },
  {
   "cell_type": "code",
   "execution_count": 19,
   "metadata": {},
   "outputs": [],
   "source": [
    "# Ввиду высокой смысловой корреляции между browser и os,удаляем последний, тк он, к тому же, менее информативен\n",
    "train = train.drop(['os', 'browser_version', 'os_version'], axis=1)"
   ]
  },
  {
   "cell_type": "code",
   "execution_count": 20,
   "metadata": {},
   "outputs": [],
   "source": [
    "train = train.drop(['user_id'], axis=1)"
   ]
  },
  {
   "cell_type": "code",
   "execution_count": 21,
   "metadata": {},
   "outputs": [],
   "source": [
    "# выделим топ 25 значений столбца browser\n",
    "top_25 = [x for x in train['browser'].value_counts().sort_values(ascending=False).head(25).index]\n",
    "train['browser'] = train['browser'].apply(lambda x: x if x in top_25 else 'Other')"
   ]
  },
  {
   "cell_type": "code",
   "execution_count": 22,
   "metadata": {},
   "outputs": [
    {
     "name": "stdout",
     "output_type": "stream",
     "text": [
      "Number of unique year:  1\n",
      "Number of unique month:  1\n",
      "Number of unique dayofweek:  2\n",
      "\n",
      " request_dayofweek\n",
      "7    510348\n",
      "6     31584\n",
      "Name: count, dtype: int64\n",
      "\n",
      "Number of unique hour:  24\n"
     ]
    }
   ],
   "source": [
    "# преобразуем столбец дата-время request_ts\n",
    "train['request_date'] = pd.to_datetime(train['request_ts'], unit='s')\n",
    "train.insert(loc=1,column='request_year', value=train['request_date'].dt.year)\n",
    "train.insert(loc=2, column='request_month', value=train['request_date'].dt.month)\n",
    "train.insert(loc=3, column='request_dayofweek', value=(train['request_date'].dt.dayofweek)+1)\n",
    "train.insert(loc=4, column='request_hour', value=train['request_date'].dt.hour)\n",
    "\n",
    "print('Number of unique year: ', train['request_year'].nunique())\n",
    "print('Number of unique month: ', train['request_month'].nunique())\n",
    "print('Number of unique dayofweek: ', train['request_dayofweek'].nunique())\n",
    "print('\\n',train['request_dayofweek'].value_counts())\n",
    "print('\\nNumber of unique hour: ', train['request_hour'].nunique())\n",
    "\n",
    "# Удалим стоблцы year, month, тк они не информативны и содержат единственное значение. Столбец request_dayofweek, поскольку он содержит только дни 6 и 7, которые коррелируют как выходные. А также исходный request_ts и request_date\n",
    "train = train.drop(['request_year', 'request_month', 'request_ts', 'request_dayofweek', 'request_date'], axis=1)"
   ]
  },
  {
   "cell_type": "code",
   "execution_count": 24,
   "metadata": {},
   "outputs": [
    {
     "name": "stdout",
     "output_type": "stream",
     "text": [
      "<class 'pandas.core.frame.DataFrame'>\n",
      "Index: 541932 entries, 0 to 601289\n",
      "Data columns (total 14 columns):\n",
      " #   Column        Non-Null Count   Dtype \n",
      "---  ------        --------------   ----- \n",
      " 0   request_hour  541932 non-null  int32 \n",
      " 1   region_id     541932 non-null  object\n",
      " 2   component0    541932 non-null  int64 \n",
      " 3   component1    541932 non-null  int64 \n",
      " 4   component2    541932 non-null  int64 \n",
      " 5   component3    541932 non-null  int64 \n",
      " 6   component4    541932 non-null  int64 \n",
      " 7   component5    541932 non-null  int64 \n",
      " 8   component6    541932 non-null  int64 \n",
      " 9   component7    541932 non-null  int64 \n",
      " 10  component8    541932 non-null  int64 \n",
      " 11  component9    541932 non-null  int64 \n",
      " 12  target        541932 non-null  int64 \n",
      " 13  browser       541932 non-null  object\n",
      "dtypes: int32(1), int64(11), object(2)\n",
      "memory usage: 60.0+ MB\n"
     ]
    }
   ],
   "source": [
    "train.info()"
   ]
  },
  {
   "cell_type": "markdown",
   "metadata": {},
   "source": [
    "Построим тепловую карту и корреляционную матрицу признаков:"
   ]
  },
  {
   "cell_type": "code",
   "execution_count": 31,
   "metadata": {},
   "outputs": [
    {
     "data": {
      "text/plain": [
       "<Axes: >"
      ]
     },
     "execution_count": 31,
     "metadata": {},
     "output_type": "execute_result"
    },
    {
     "data": {
      "image/png": "[encoded data removed]",
      "text/plain": [
       "<Figure size 1000x1000 with 2 Axes>"
      ]
     },
     "metadata": {},
     "output_type": "display_data"
    }
   ],
   "source": [
    "fig, ax = plt.subplots(figsize=(10, 10))\n",
    "sns.heatmap(train.drop(['region_id', 'browser'], axis = 1).corr(), cmap = 'bwr')"
   ]
  },
  {
   "cell_type": "code",
   "execution_count": 34,
   "metadata": {},
   "outputs": [
    {
     "data": {
      "text/plain": [
       "target          1.000000\n",
       "component1      0.247153\n",
       "component8      0.214050\n",
       "component5      0.097713\n",
       "component6      0.070640\n",
       "component0      0.050838\n",
       "component4      0.045475\n",
       "component9      0.012024\n",
       "request_hour   -0.006845\n",
       "component7     -0.063404\n",
       "component2     -0.116271\n",
       "component3     -0.197629\n",
       "Name: target, dtype: float64"
      ]
     },
     "execution_count": 34,
     "metadata": {},
     "output_type": "execute_result"
    }
   ],
   "source": [
    "train.drop(['region_id', 'browser'], axis = 1).corr()['target'].sort_values(ascending = False)"
   ]
  },
  {
   "cell_type": "markdown",
   "metadata": {},
   "source": [
    "Обратим внимание, что в датасете нет коррелирующих с целевой переменной признаков.  \n",
    "Также можно выделить признаки 'component9', 'request_hour' с корреляцией около нуля, которые в модели можно не учитывать."
   ]
  },
  {
   "cell_type": "code",
   "execution_count": 35,
   "metadata": {},
   "outputs": [
    {
     "data": {
      "text/html": [
       "<style>#sk-container-id-1 {\n",
       "  /* Definition of color scheme common for light and dark mode */\n",
       "  --sklearn-color-text: black;\n",
       "  --sklearn-color-line: gray;\n",
       "  /* Definition of color scheme for unfitted estimators */\n",
       "  --sklearn-color-unfitted-level-0: #fff5e6;\n",
       "  --sklearn-color-unfitted-level-1: #f6e4d2;\n",
       "  --sklearn-color-unfitted-level-2: #ffe0b3;\n",
       "  --sklearn-color-unfitted-level-3: chocolate;\n",
       "  /* Definition of color scheme for fitted estimators */\n",
       "  --sklearn-color-fitted-level-0: #f0f8ff;\n",
       "  --sklearn-color-fitted-level-1: #d4ebff;\n",
       "  --sklearn-color-fitted-level-2: #b3dbfd;\n",
       "  --sklearn-color-fitted-level-3: cornflowerblue;\n",
       "\n",
       "  /* Specific color for light theme */\n",
       "  --sklearn-color-text-on-default-background: var(--sg-text-color, var(--theme-code-foreground, var(--jp-content-font-color1, black)));\n",
       "  --sklearn-color-background: var(--sg-background-color, var(--theme-background, var(--jp-layout-color0, white)));\n",
       "  --sklearn-color-border-box: var(--sg-text-color, var(--theme-code-foreground, var(--jp-content-font-color1, black)));\n",
       "  --sklearn-color-icon: #696969;\n",
       "\n",
       "  @media (prefers-color-scheme: dark) {\n",
       "    /* Redefinition of color scheme for dark theme */\n",
       "    --sklearn-color-text-on-default-background: var(--sg-text-color, var(--theme-code-foreground, var(--jp-content-font-color1, white)));\n",
       "    --sklearn-color-background: var(--sg-background-color, var(--theme-background, var(--jp-layout-color0, #111)));\n",
       "    --sklearn-color-border-box: var(--sg-text-color, var(--theme-code-foreground, var(--jp-content-font-color1, white)));\n",
       "    --sklearn-color-icon: #878787;\n",
       "  }\n",
       "}\n",
       "\n",
       "#sk-container-id-1 {\n",
       "  color: var(--sklearn-color-text);\n",
       "}\n",
       "\n",
       "#sk-container-id-1 pre {\n",
       "  padding: 0;\n",
       "}\n",
       "\n",
       "#sk-container-id-1 input.sk-hidden--visually {\n",
       "  border: 0;\n",
       "  clip: rect(1px 1px 1px 1px);\n",
       "  clip: rect(1px, 1px, 1px, 1px);\n",
       "  height: 1px;\n",
       "  margin: -1px;\n",
       "  overflow: hidden;\n",
       "  padding: 0;\n",
       "  position: absolute;\n",
       "  width: 1px;\n",
       "}\n",
       "\n",
       "#sk-container-id-1 div.sk-dashed-wrapped {\n",
       "  border: 1px dashed var(--sklearn-color-line);\n",
       "  margin: 0 0.4em 0.5em 0.4em;\n",
       "  box-sizing: border-box;\n",
       "  padding-bottom: 0.4em;\n",
       "  background-color: var(--sklearn-color-background);\n",
       "}\n",
       "\n",
       "#sk-container-id-1 div.sk-container {\n",
       "  /* jupyter's `normalize.less` sets `[hidden] { display: none; }`\n",
       "     but bootstrap.min.css set `[hidden] { display: none !important; }`\n",
       "     so we also need the `!important` here to be able to override the\n",
       "     default hidden behavior on the sphinx rendered scikit-learn.org.\n",
       "     See: https://github.com/scikit-learn/scikit-learn/issues/21755 */\n",
       "  display: inline-block !important;\n",
       "  position: relative;\n",
       "}\n",
       "\n",
       "#sk-container-id-1 div.sk-text-repr-fallback {\n",
       "  display: none;\n",
       "}\n",
       "\n",
       "div.sk-parallel-item,\n",
       "div.sk-serial,\n",
       "div.sk-item {\n",
       "  /* draw centered vertical line to link estimators */\n",
       "  background-image: linear-gradient(var(--sklearn-color-text-on-default-background), var(--sklearn-color-text-on-default-background));\n",
       "  background-size: 2px 100%;\n",
       "  background-repeat: no-repeat;\n",
       "  background-position: center center;\n",
       "}\n",
       "\n",
       "/* Parallel-specific style estimator block */\n",
       "\n",
       "#sk-container-id-1 div.sk-parallel-item::after {\n",
       "  content: \"\";\n",
       "  width: 100%;\n",
       "  border-bottom: 2px solid var(--sklearn-color-text-on-default-background);\n",
       "  flex-grow: 1;\n",
       "}\n",
       "\n",
       "#sk-container-id-1 div.sk-parallel {\n",
       "  display: flex;\n",
       "  align-items: stretch;\n",
       "  justify-content: center;\n",
       "  background-color: var(--sklearn-color-background);\n",
       "  position: relative;\n",
       "}\n",
       "\n",
       "#sk-container-id-1 div.sk-parallel-item {\n",
       "  display: flex;\n",
       "  flex-direction: column;\n",
       "}\n",
       "\n",
       "#sk-container-id-1 div.sk-parallel-item:first-child::after {\n",
       "  align-self: flex-end;\n",
       "  width: 50%;\n",
       "}\n",
       "\n",
       "#sk-container-id-1 div.sk-parallel-item:last-child::after {\n",
       "  align-self: flex-start;\n",
       "  width: 50%;\n",
       "}\n",
       "\n",
       "#sk-container-id-1 div.sk-parallel-item:only-child::after {\n",
       "  width: 0;\n",
       "}\n",
       "\n",
       "/* Serial-specific style estimator block */\n",
       "\n",
       "#sk-container-id-1 div.sk-serial {\n",
       "  display: flex;\n",
       "  flex-direction: column;\n",
       "  align-items: center;\n",
       "  background-color: var(--sklearn-color-background);\n",
       "  padding-right: 1em;\n",
       "  padding-left: 1em;\n",
       "}\n",
       "\n",
       "\n",
       "/* Toggleable style: style used for estimator/Pipeline/ColumnTransformer box that is\n",
       "clickable and can be expanded/collapsed.\n",
       "- Pipeline and ColumnTransformer use this feature and define the default style\n",
       "- Estimators will overwrite some part of the style using the `sk-estimator` class\n",
       "*/\n",
       "\n",
       "/* Pipeline and ColumnTransformer style (default) */\n",
       "\n",
       "#sk-container-id-1 div.sk-toggleable {\n",
       "  /* Default theme specific background. It is overwritten whether we have a\n",
       "  specific estimator or a Pipeline/ColumnTransformer */\n",
       "  background-color: var(--sklearn-color-background);\n",
       "}\n",
       "\n",
       "/* Toggleable label */\n",
       "#sk-container-id-1 label.sk-toggleable__label {\n",
       "  cursor: pointer;\n",
       "  display: block;\n",
       "  width: 100%;\n",
       "  margin-bottom: 0;\n",
       "  padding: 0.5em;\n",
       "  box-sizing: border-box;\n",
       "  text-align: center;\n",
       "}\n",
       "\n",
       "#sk-container-id-1 label.sk-toggleable__label-arrow:before {\n",
       "  /* Arrow on the left of the label */\n",
       "  content: \"▸\";\n",
       "  float: left;\n",
       "  margin-right: 0.25em;\n",
       "  color: var(--sklearn-color-icon);\n",
       "}\n",
       "\n",
       "#sk-container-id-1 label.sk-toggleable__label-arrow:hover:before {\n",
       "  color: var(--sklearn-color-text);\n",
       "}\n",
       "\n",
       "/* Toggleable content - dropdown */\n",
       "\n",
       "#sk-container-id-1 div.sk-toggleable__content {\n",
       "  max-height: 0;\n",
       "  max-width: 0;\n",
       "  overflow: hidden;\n",
       "  text-align: left;\n",
       "  /* unfitted */\n",
       "  background-color: var(--sklearn-color-unfitted-level-0);\n",
       "}\n",
       "\n",
       "#sk-container-id-1 div.sk-toggleable__content.fitted {\n",
       "  /* fitted */\n",
       "  background-color: var(--sklearn-color-fitted-level-0);\n",
       "}\n",
       "\n",
       "#sk-container-id-1 div.sk-toggleable__content pre {\n",
       "  margin: 0.2em;\n",
       "  border-radius: 0.25em;\n",
       "  color: var(--sklearn-color-text);\n",
       "  /* unfitted */\n",
       "  background-color: var(--sklearn-color-unfitted-level-0);\n",
       "}\n",
       "\n",
       "#sk-container-id-1 div.sk-toggleable__content.fitted pre {\n",
       "  /* unfitted */\n",
       "  background-color: var(--sklearn-color-fitted-level-0);\n",
       "}\n",
       "\n",
       "#sk-container-id-1 input.sk-toggleable__control:checked~div.sk-toggleable__content {\n",
       "  /* Expand drop-down */\n",
       "  max-height: 200px;\n",
       "  max-width: 100%;\n",
       "  overflow: auto;\n",
       "}\n",
       "\n",
       "#sk-container-id-1 input.sk-toggleable__control:checked~label.sk-toggleable__label-arrow:before {\n",
       "  content: \"▾\";\n",
       "}\n",
       "\n",
       "/* Pipeline/ColumnTransformer-specific style */\n",
       "\n",
       "#sk-container-id-1 div.sk-label input.sk-toggleable__control:checked~label.sk-toggleable__label {\n",
       "  color: var(--sklearn-color-text);\n",
       "  background-color: var(--sklearn-color-unfitted-level-2);\n",
       "}\n",
       "\n",
       "#sk-container-id-1 div.sk-label.fitted input.sk-toggleable__control:checked~label.sk-toggleable__label {\n",
       "  background-color: var(--sklearn-color-fitted-level-2);\n",
       "}\n",
       "\n",
       "/* Estimator-specific style */\n",
       "\n",
       "/* Colorize estimator box */\n",
       "#sk-container-id-1 div.sk-estimator input.sk-toggleable__control:checked~label.sk-toggleable__label {\n",
       "  /* unfitted */\n",
       "  background-color: var(--sklearn-color-unfitted-level-2);\n",
       "}\n",
       "\n",
       "#sk-container-id-1 div.sk-estimator.fitted input.sk-toggleable__control:checked~label.sk-toggleable__label {\n",
       "  /* fitted */\n",
       "  background-color: var(--sklearn-color-fitted-level-2);\n",
       "}\n",
       "\n",
       "#sk-container-id-1 div.sk-label label.sk-toggleable__label,\n",
       "#sk-container-id-1 div.sk-label label {\n",
       "  /* The background is the default theme color */\n",
       "  color: var(--sklearn-color-text-on-default-background);\n",
       "}\n",
       "\n",
       "/* On hover, darken the color of the background */\n",
       "#sk-container-id-1 div.sk-label:hover label.sk-toggleable__label {\n",
       "  color: var(--sklearn-color-text);\n",
       "  background-color: var(--sklearn-color-unfitted-level-2);\n",
       "}\n",
       "\n",
       "/* Label box, darken color on hover, fitted */\n",
       "#sk-container-id-1 div.sk-label.fitted:hover label.sk-toggleable__label.fitted {\n",
       "  color: var(--sklearn-color-text);\n",
       "  background-color: var(--sklearn-color-fitted-level-2);\n",
       "}\n",
       "\n",
       "/* Estimator label */\n",
       "\n",
       "#sk-container-id-1 div.sk-label label {\n",
       "  font-family: monospace;\n",
       "  font-weight: bold;\n",
       "  display: inline-block;\n",
       "  line-height: 1.2em;\n",
       "}\n",
       "\n",
       "#sk-container-id-1 div.sk-label-container {\n",
       "  text-align: center;\n",
       "}\n",
       "\n",
       "/* Estimator-specific */\n",
       "#sk-container-id-1 div.sk-estimator {\n",
       "  font-family: monospace;\n",
       "  border: 1px dotted var(--sklearn-color-border-box);\n",
       "  border-radius: 0.25em;\n",
       "  box-sizing: border-box;\n",
       "  margin-bottom: 0.5em;\n",
       "  /* unfitted */\n",
       "  background-color: var(--sklearn-color-unfitted-level-0);\n",
       "}\n",
       "\n",
       "#sk-container-id-1 div.sk-estimator.fitted {\n",
       "  /* fitted */\n",
       "  background-color: var(--sklearn-color-fitted-level-0);\n",
       "}\n",
       "\n",
       "/* on hover */\n",
       "#sk-container-id-1 div.sk-estimator:hover {\n",
       "  /* unfitted */\n",
       "  background-color: var(--sklearn-color-unfitted-level-2);\n",
       "}\n",
       "\n",
       "#sk-container-id-1 div.sk-estimator.fitted:hover {\n",
       "  /* fitted */\n",
       "  background-color: var(--sklearn-color-fitted-level-2);\n",
       "}\n",
       "\n",
       "/* Specification for estimator info (e.g. \"i\" and \"?\") */\n",
       "\n",
       "/* Common style for \"i\" and \"?\" */\n",
       "\n",
       ".sk-estimator-doc-link,\n",
       "a:link.sk-estimator-doc-link,\n",
       "a:visited.sk-estimator-doc-link {\n",
       "  float: right;\n",
       "  font-size: smaller;\n",
       "  line-height: 1em;\n",
       "  font-family: monospace;\n",
       "  background-color: var(--sklearn-color-background);\n",
       "  border-radius: 1em;\n",
       "  height: 1em;\n",
       "  width: 1em;\n",
       "  text-decoration: none !important;\n",
       "  margin-left: 1ex;\n",
       "  /* unfitted */\n",
       "  border: var(--sklearn-color-unfitted-level-1) 1pt solid;\n",
       "  color: var(--sklearn-color-unfitted-level-1);\n",
       "}\n",
       "\n",
       ".sk-estimator-doc-link.fitted,\n",
       "a:link.sk-estimator-doc-link.fitted,\n",
       "a:visited.sk-estimator-doc-link.fitted {\n",
       "  /* fitted */\n",
       "  border: var(--sklearn-color-fitted-level-1) 1pt solid;\n",
       "  color: var(--sklearn-color-fitted-level-1);\n",
       "}\n",
       "\n",
       "/* On hover */\n",
       "div.sk-estimator:hover .sk-estimator-doc-link:hover,\n",
       ".sk-estimator-doc-link:hover,\n",
       "div.sk-label-container:hover .sk-estimator-doc-link:hover,\n",
       ".sk-estimator-doc-link:hover {\n",
       "  /* unfitted */\n",
       "  background-color: var(--sklearn-color-unfitted-level-3);\n",
       "  color: var(--sklearn-color-background);\n",
       "  text-decoration: none;\n",
       "}\n",
       "\n",
       "div.sk-estimator.fitted:hover .sk-estimator-doc-link.fitted:hover,\n",
       ".sk-estimator-doc-link.fitted:hover,\n",
       "div.sk-label-container:hover .sk-estimator-doc-link.fitted:hover,\n",
       ".sk-estimator-doc-link.fitted:hover {\n",
       "  /* fitted */\n",
       "  background-color: var(--sklearn-color-fitted-level-3);\n",
       "  color: var(--sklearn-color-background);\n",
       "  text-decoration: none;\n",
       "}\n",
       "\n",
       "/* Span, style for the box shown on hovering the info icon */\n",
       ".sk-estimator-doc-link span {\n",
       "  display: none;\n",
       "  z-index: 9999;\n",
       "  position: relative;\n",
       "  font-weight: normal;\n",
       "  right: .2ex;\n",
       "  padding: .5ex;\n",
       "  margin: .5ex;\n",
       "  width: min-content;\n",
       "  min-width: 20ex;\n",
       "  max-width: 50ex;\n",
       "  color: var(--sklearn-color-text);\n",
       "  box-shadow: 2pt 2pt 4pt #999;\n",
       "  /* unfitted */\n",
       "  background: var(--sklearn-color-unfitted-level-0);\n",
       "  border: .5pt solid var(--sklearn-color-unfitted-level-3);\n",
       "}\n",
       "\n",
       ".sk-estimator-doc-link.fitted span {\n",
       "  /* fitted */\n",
       "  background: var(--sklearn-color-fitted-level-0);\n",
       "  border: var(--sklearn-color-fitted-level-3);\n",
       "}\n",
       "\n",
       ".sk-estimator-doc-link:hover span {\n",
       "  display: block;\n",
       "}\n",
       "\n",
       "/* \"?\"-specific style due to the `<a>` HTML tag */\n",
       "\n",
       "#sk-container-id-1 a.estimator_doc_link {\n",
       "  float: right;\n",
       "  font-size: 1rem;\n",
       "  line-height: 1em;\n",
       "  font-family: monospace;\n",
       "  background-color: var(--sklearn-color-background);\n",
       "  border-radius: 1rem;\n",
       "  height: 1rem;\n",
       "  width: 1rem;\n",
       "  text-decoration: none;\n",
       "  /* unfitted */\n",
       "  color: var(--sklearn-color-unfitted-level-1);\n",
       "  border: var(--sklearn-color-unfitted-level-1) 1pt solid;\n",
       "}\n",
       "\n",
       "#sk-container-id-1 a.estimator_doc_link.fitted {\n",
       "  /* fitted */\n",
       "  border: var(--sklearn-color-fitted-level-1) 1pt solid;\n",
       "  color: var(--sklearn-color-fitted-level-1);\n",
       "}\n",
       "\n",
       "/* On hover */\n",
       "#sk-container-id-1 a.estimator_doc_link:hover {\n",
       "  /* unfitted */\n",
       "  background-color: var(--sklearn-color-unfitted-level-3);\n",
       "  color: var(--sklearn-color-background);\n",
       "  text-decoration: none;\n",
       "}\n",
       "\n",
       "#sk-container-id-1 a.estimator_doc_link.fitted:hover {\n",
       "  /* fitted */\n",
       "  background-color: var(--sklearn-color-fitted-level-3);\n",
       "}\n",
       "</style><div id=\"sk-container-id-1\" class=\"sk-top-container\"><div class=\"sk-text-repr-fallback\"><pre>ColumnTransformer(transformers=[(&#x27;num&#x27;,\n",
       "                                 Pipeline(steps=[(&#x27;scaler&#x27;, StandardScaler())]),\n",
       "                                 [&#x27;component0&#x27;, &#x27;component1&#x27;, &#x27;component2&#x27;,\n",
       "                                  &#x27;component3&#x27;, &#x27;component4&#x27;, &#x27;component5&#x27;,\n",
       "                                  &#x27;component6&#x27;, &#x27;component7&#x27;, &#x27;component8&#x27;,\n",
       "                                  &#x27;component9&#x27;]),\n",
       "                                (&#x27;cat&#x27;,\n",
       "                                 OneHotEncoder(drop=&#x27;first&#x27;,\n",
       "                                               handle_unknown=&#x27;ignore&#x27;,\n",
       "                                               sparse_output=False),\n",
       "                                 [&#x27;browser&#x27;]),\n",
       "                                (&#x27;hour_sin&#x27;,\n",
       "                                 FunctionTransformer(func=&lt;function sin_transformer.&lt;locals&gt;.&lt;lambda&gt; at 0x0000024AE1F644A0&gt;),\n",
       "                                 [&#x27;request_hour&#x27;]),\n",
       "                                (&#x27;hour_cos&#x27;,\n",
       "                                 FunctionTransformer(func=&lt;function cos_transformer.&lt;locals&gt;.&lt;lambda&gt; at 0x0000024AE1F64540&gt;),\n",
       "                                 [&#x27;request_hour&#x27;]),\n",
       "                                (&#x27;trgt&#x27;, TargetEncoder(), [&#x27;region_id&#x27;])])</pre><b>In a Jupyter environment, please rerun this cell to show the HTML representation or trust the notebook. <br />On GitHub, the HTML representation is unable to render, please try loading this page with nbviewer.org.</b></div><div class=\"sk-container\" hidden><div class=\"sk-item sk-dashed-wrapped\"><div class=\"sk-label-container\"><div class=\"sk-label  sk-toggleable\"><input class=\"sk-toggleable__control sk-hidden--visually\" id=\"sk-estimator-id-1\" type=\"checkbox\" ><label for=\"sk-estimator-id-1\" class=\"sk-toggleable__label  sk-toggleable__label-arrow \">&nbsp;&nbsp;ColumnTransformer<a class=\"sk-estimator-doc-link \" rel=\"noreferrer\" target=\"_blank\" href=\"https://scikit-learn.org/1.4/modules/generated/sklearn.compose.ColumnTransformer.html\">?<span>Documentation for ColumnTransformer</span></a><span class=\"sk-estimator-doc-link \">i<span>Not fitted</span></span></label><div class=\"sk-toggleable__content \"><pre>ColumnTransformer(transformers=[(&#x27;num&#x27;,\n",
       "                                 Pipeline(steps=[(&#x27;scaler&#x27;, StandardScaler())]),\n",
       "                                 [&#x27;component0&#x27;, &#x27;component1&#x27;, &#x27;component2&#x27;,\n",
       "                                  &#x27;component3&#x27;, &#x27;component4&#x27;, &#x27;component5&#x27;,\n",
       "                                  &#x27;component6&#x27;, &#x27;component7&#x27;, &#x27;component8&#x27;,\n",
       "                                  &#x27;component9&#x27;]),\n",
       "                                (&#x27;cat&#x27;,\n",
       "                                 OneHotEncoder(drop=&#x27;first&#x27;,\n",
       "                                               handle_unknown=&#x27;ignore&#x27;,\n",
       "                                               sparse_output=False),\n",
       "                                 [&#x27;browser&#x27;]),\n",
       "                                (&#x27;hour_sin&#x27;,\n",
       "                                 FunctionTransformer(func=&lt;function sin_transformer.&lt;locals&gt;.&lt;lambda&gt; at 0x0000024AE1F644A0&gt;),\n",
       "                                 [&#x27;request_hour&#x27;]),\n",
       "                                (&#x27;hour_cos&#x27;,\n",
       "                                 FunctionTransformer(func=&lt;function cos_transformer.&lt;locals&gt;.&lt;lambda&gt; at 0x0000024AE1F64540&gt;),\n",
       "                                 [&#x27;request_hour&#x27;]),\n",
       "                                (&#x27;trgt&#x27;, TargetEncoder(), [&#x27;region_id&#x27;])])</pre></div> </div></div><div class=\"sk-parallel\"><div class=\"sk-parallel-item\"><div class=\"sk-item\"><div class=\"sk-label-container\"><div class=\"sk-label  sk-toggleable\"><input class=\"sk-toggleable__control sk-hidden--visually\" id=\"sk-estimator-id-2\" type=\"checkbox\" ><label for=\"sk-estimator-id-2\" class=\"sk-toggleable__label  sk-toggleable__label-arrow \">num</label><div class=\"sk-toggleable__content \"><pre>[&#x27;component0&#x27;, &#x27;component1&#x27;, &#x27;component2&#x27;, &#x27;component3&#x27;, &#x27;component4&#x27;, &#x27;component5&#x27;, &#x27;component6&#x27;, &#x27;component7&#x27;, &#x27;component8&#x27;, &#x27;component9&#x27;]</pre></div> </div></div><div class=\"sk-serial\"><div class=\"sk-item\"><div class=\"sk-serial\"><div class=\"sk-item\"><div class=\"sk-estimator  sk-toggleable\"><input class=\"sk-toggleable__control sk-hidden--visually\" id=\"sk-estimator-id-3\" type=\"checkbox\" ><label for=\"sk-estimator-id-3\" class=\"sk-toggleable__label  sk-toggleable__label-arrow \">&nbsp;StandardScaler<a class=\"sk-estimator-doc-link \" rel=\"noreferrer\" target=\"_blank\" href=\"https://scikit-learn.org/1.4/modules/generated/sklearn.preprocessing.StandardScaler.html\">?<span>Documentation for StandardScaler</span></a></label><div class=\"sk-toggleable__content \"><pre>StandardScaler()</pre></div> </div></div></div></div></div></div></div><div class=\"sk-parallel-item\"><div class=\"sk-item\"><div class=\"sk-label-container\"><div class=\"sk-label  sk-toggleable\"><input class=\"sk-toggleable__control sk-hidden--visually\" id=\"sk-estimator-id-4\" type=\"checkbox\" ><label for=\"sk-estimator-id-4\" class=\"sk-toggleable__label  sk-toggleable__label-arrow \">cat</label><div class=\"sk-toggleable__content \"><pre>[&#x27;browser&#x27;]</pre></div> </div></div><div class=\"sk-serial\"><div class=\"sk-item\"><div class=\"sk-estimator  sk-toggleable\"><input class=\"sk-toggleable__control sk-hidden--visually\" id=\"sk-estimator-id-5\" type=\"checkbox\" ><label for=\"sk-estimator-id-5\" class=\"sk-toggleable__label  sk-toggleable__label-arrow \">&nbsp;OneHotEncoder<a class=\"sk-estimator-doc-link \" rel=\"noreferrer\" target=\"_blank\" href=\"https://scikit-learn.org/1.4/modules/generated/sklearn.preprocessing.OneHotEncoder.html\">?<span>Documentation for OneHotEncoder</span></a></label><div class=\"sk-toggleable__content \"><pre>OneHotEncoder(drop=&#x27;first&#x27;, handle_unknown=&#x27;ignore&#x27;, sparse_output=False)</pre></div> </div></div></div></div></div><div class=\"sk-parallel-item\"><div class=\"sk-item\"><div class=\"sk-label-container\"><div class=\"sk-label  sk-toggleable\"><input class=\"sk-toggleable__control sk-hidden--visually\" id=\"sk-estimator-id-6\" type=\"checkbox\" ><label for=\"sk-estimator-id-6\" class=\"sk-toggleable__label  sk-toggleable__label-arrow \">hour_sin</label><div class=\"sk-toggleable__content \"><pre>[&#x27;request_hour&#x27;]</pre></div> </div></div><div class=\"sk-serial\"><div class=\"sk-item\"><div class=\"sk-estimator  sk-toggleable\"><input class=\"sk-toggleable__control sk-hidden--visually\" id=\"sk-estimator-id-7\" type=\"checkbox\" ><label for=\"sk-estimator-id-7\" class=\"sk-toggleable__label  sk-toggleable__label-arrow \">&nbsp;FunctionTransformer<a class=\"sk-estimator-doc-link \" rel=\"noreferrer\" target=\"_blank\" href=\"https://scikit-learn.org/1.4/modules/generated/sklearn.preprocessing.FunctionTransformer.html\">?<span>Documentation for FunctionTransformer</span></a></label><div class=\"sk-toggleable__content \"><pre>FunctionTransformer(func=&lt;function sin_transformer.&lt;locals&gt;.&lt;lambda&gt; at 0x0000024AE1F644A0&gt;)</pre></div> </div></div></div></div></div><div class=\"sk-parallel-item\"><div class=\"sk-item\"><div class=\"sk-label-container\"><div class=\"sk-label  sk-toggleable\"><input class=\"sk-toggleable__control sk-hidden--visually\" id=\"sk-estimator-id-8\" type=\"checkbox\" ><label for=\"sk-estimator-id-8\" class=\"sk-toggleable__label  sk-toggleable__label-arrow \">hour_cos</label><div class=\"sk-toggleable__content \"><pre>[&#x27;request_hour&#x27;]</pre></div> </div></div><div class=\"sk-serial\"><div class=\"sk-item\"><div class=\"sk-estimator  sk-toggleable\"><input class=\"sk-toggleable__control sk-hidden--visually\" id=\"sk-estimator-id-9\" type=\"checkbox\" ><label for=\"sk-estimator-id-9\" class=\"sk-toggleable__label  sk-toggleable__label-arrow \">&nbsp;FunctionTransformer<a class=\"sk-estimator-doc-link \" rel=\"noreferrer\" target=\"_blank\" href=\"https://scikit-learn.org/1.4/modules/generated/sklearn.preprocessing.FunctionTransformer.html\">?<span>Documentation for FunctionTransformer</span></a></label><div class=\"sk-toggleable__content \"><pre>FunctionTransformer(func=&lt;function cos_transformer.&lt;locals&gt;.&lt;lambda&gt; at 0x0000024AE1F64540&gt;)</pre></div> </div></div></div></div></div><div class=\"sk-parallel-item\"><div class=\"sk-item\"><div class=\"sk-label-container\"><div class=\"sk-label  sk-toggleable\"><input class=\"sk-toggleable__control sk-hidden--visually\" id=\"sk-estimator-id-10\" type=\"checkbox\" ><label for=\"sk-estimator-id-10\" class=\"sk-toggleable__label  sk-toggleable__label-arrow \">trgt</label><div class=\"sk-toggleable__content \"><pre>[&#x27;region_id&#x27;]</pre></div> </div></div><div class=\"sk-serial\"><div class=\"sk-item\"><div class=\"sk-estimator  sk-toggleable\"><input class=\"sk-toggleable__control sk-hidden--visually\" id=\"sk-estimator-id-11\" type=\"checkbox\" ><label for=\"sk-estimator-id-11\" class=\"sk-toggleable__label  sk-toggleable__label-arrow \">&nbsp;TargetEncoder<a class=\"sk-estimator-doc-link \" rel=\"noreferrer\" target=\"_blank\" href=\"https://scikit-learn.org/1.4/modules/generated/sklearn.preprocessing.TargetEncoder.html\">?<span>Documentation for TargetEncoder</span></a></label><div class=\"sk-toggleable__content \"><pre>TargetEncoder()</pre></div> </div></div></div></div></div></div></div></div></div>"
      ],
      "text/plain": [
       "ColumnTransformer(transformers=[('num',\n",
       "                                 Pipeline(steps=[('scaler', StandardScaler())]),\n",
       "                                 ['component0', 'component1', 'component2',\n",
       "                                  'component3', 'component4', 'component5',\n",
       "                                  'component6', 'component7', 'component8',\n",
       "                                  'component9']),\n",
       "                                ('cat',\n",
       "                                 OneHotEncoder(drop='first',\n",
       "                                               handle_unknown='ignore',\n",
       "                                               sparse_output=False),\n",
       "                                 ['browser']),\n",
       "                                ('hour_sin',\n",
       "                                 FunctionTransformer(func=<function sin_transformer.<locals>.<lambda> at 0x0000024AE1F644A0>),\n",
       "                                 ['request_hour']),\n",
       "                                ('hour_cos',\n",
       "                                 FunctionTransformer(func=<function cos_transformer.<locals>.<lambda> at 0x0000024AE1F64540>),\n",
       "                                 ['request_hour']),\n",
       "                                ('trgt', TargetEncoder(), ['region_id'])])"
      ]
     },
     "execution_count": 35,
     "metadata": {},
     "output_type": "execute_result"
    }
   ],
   "source": [
    "# нормализуем столбцы\n",
    "numeric_features = ['component0', 'component1', 'component2', 'component3', 'component4', 'component5', \\\n",
    "                    'component6', 'component7', 'component8', 'component9']\n",
    "time_feature = ['request_hour']\n",
    "mean_encoding_feature = ['region_id']\n",
    "\n",
    "\n",
    "def sin_transformer(period):\n",
    "    return FunctionTransformer(lambda x: np.sin(x / period * 2 * np.pi))\n",
    "def cos_transformer(period):\n",
    "    return FunctionTransformer(lambda x: np.cos(x / period * 2 * np.pi))\n",
    "\n",
    "\n",
    "numeric_transformer = Pipeline(steps=[\n",
    "    ('scaler', StandardScaler())\n",
    "])\n",
    "\n",
    "one_hot_encoder = OneHotEncoder(drop='first', handle_unknown='ignore',sparse_output=False)\n",
    "\n",
    "target = TargetEncoder()\n",
    "\n",
    "preprocessor = ColumnTransformer(\n",
    "    transformers=[\n",
    "        ('num', numeric_transformer, numeric_features),\n",
    "        ('cat', one_hot_encoder, ['browser']),\n",
    "        (\"hour_sin\", sin_transformer(24), [\"request_hour\"]),\n",
    "        (\"hour_cos\", cos_transformer(24), [\"request_hour\"]),\n",
    "        ('trgt', target, ['region_id'])\n",
    "    ])\n",
    "\n",
    "preprocessor.set_output(transform='pandas')"
   ]
  },
  {
   "cell_type": "code",
   "execution_count": 50,
   "metadata": {},
   "outputs": [],
   "source": [
    "# определим целевую переменную и обучающий набор\n",
    "X = train.drop('target', axis=1)\n",
    "y = train['target']"
   ]
  },
  {
   "cell_type": "code",
   "execution_count": 51,
   "metadata": {},
   "outputs": [],
   "source": [
    "df_pandas = preprocessor.fit_transform(X, y)"
   ]
  },
  {
   "cell_type": "markdown",
   "metadata": {},
   "source": [
    "# Model for predicting gender"
   ]
  },
  {
   "cell_type": "code",
   "execution_count": 60,
   "metadata": {},
   "outputs": [
    {
     "name": "stdout",
     "output_type": "stream",
     "text": [
      "Фолд №  1\n"
     ]
    },
    {
     "name": "stderr",
     "output_type": "stream",
     "text": [
      "Обучение модели:   4%|▍         | 1/25 [00:02<01:01,  2.56s/it]"
     ]
    },
    {
     "name": "stdout",
     "output_type": "stream",
     "text": [
      "Эпоха 1  /100 - Время: 2.57 секунд - Точность на обучающей выборке: 0.8954 - Точность на тестовой выборке: 0.7448\n"
     ]
    },
    {
     "name": "stderr",
     "output_type": "stream",
     "text": [
      "Обучение модели:   8%|▊         | 2/25 [00:07<01:25,  3.72s/it]"
     ]
    },
    {
     "name": "stdout",
     "output_type": "stream",
     "text": [
      "Эпоха 2  /100 - Время: 7.09 секунд - Точность на обучающей выборке: 0.8970 - Точность на тестовой выборке: 0.7494\n"
     ]
    },
    {
     "name": "stderr",
     "output_type": "stream",
     "text": [
      "Обучение модели:  12%|█▏        | 3/25 [00:13<01:49,  4.96s/it]"
     ]
    },
    {
     "name": "stdout",
     "output_type": "stream",
     "text": [
      "Эпоха 3  /100 - Время: 13.54 секунд - Точность на обучающей выборке: 0.9378 - Точность на тестовой выборке: 0.7713\n"
     ]
    },
    {
     "name": "stderr",
     "output_type": "stream",
     "text": [
      "Обучение модели:  16%|█▌        | 4/25 [00:22<02:20,  6.70s/it]"
     ]
    },
    {
     "name": "stdout",
     "output_type": "stream",
     "text": [
      "Эпоха 4  /100 - Время: 22.91 секунд - Точность на обучающей выборке: 0.9385 - Точность на тестовой выборке: 0.7733\n"
     ]
    },
    {
     "name": "stderr",
     "output_type": "stream",
     "text": [
      "Обучение модели:  20%|██        | 5/25 [00:34<02:50,  8.54s/it]"
     ]
    },
    {
     "name": "stdout",
     "output_type": "stream",
     "text": [
      "Эпоха 5  /100 - Время: 34.70 секунд - Точность на обучающей выборке: 0.9530 - Точность на тестовой выборке: 0.7822\n"
     ]
    },
    {
     "name": "stderr",
     "output_type": "stream",
     "text": [
      "Обучение модели:  24%|██▍       | 6/25 [00:47<03:11, 10.07s/it]"
     ]
    },
    {
     "name": "stdout",
     "output_type": "stream",
     "text": [
      "Эпоха 6  /100 - Время: 47.74 секунд - Точность на обучающей выборке: 0.9535 - Точность на тестовой выборке: 0.7825\n"
     ]
    },
    {
     "name": "stderr",
     "output_type": "stream",
     "text": [
      "Обучение модели:  28%|██▊       | 7/25 [01:03<03:35, 11.98s/it]"
     ]
    },
    {
     "name": "stdout",
     "output_type": "stream",
     "text": [
      "Эпоха 7  /100 - Время: 63.65 секунд - Точность на обучающей выборке: 0.9611 - Точность на тестовой выборке: 0.7872\n"
     ]
    },
    {
     "name": "stderr",
     "output_type": "stream",
     "text": [
      "Обучение модели:  32%|███▏      | 8/25 [01:21<03:57, 13.95s/it]"
     ]
    },
    {
     "name": "stdout",
     "output_type": "stream",
     "text": [
      "Эпоха 8  /100 - Время: 81.81 секунд - Точность на обучающей выборке: 0.9612 - Точность на тестовой выборке: 0.7876\n"
     ]
    },
    {
     "name": "stderr",
     "output_type": "stream",
     "text": [
      "Обучение модели:  36%|███▌      | 9/25 [01:41<04:10, 15.63s/it]"
     ]
    },
    {
     "name": "stdout",
     "output_type": "stream",
     "text": [
      "Эпоха 9  /100 - Время: 101.14 секунд - Точность на обучающей выборке: 0.9657 - Точность на тестовой выборке: 0.7907\n"
     ]
    },
    {
     "name": "stderr",
     "output_type": "stream",
     "text": [
      "Обучение модели:  40%|████      | 10/25 [02:02<04:22, 17.53s/it]"
     ]
    },
    {
     "name": "stdout",
     "output_type": "stream",
     "text": [
      "Эпоха 10 /100 - Время: 122.91 секунд - Точность на обучающей выборке: 0.9657 - Точность на тестовой выборке: 0.7905\n"
     ]
    },
    {
     "name": "stderr",
     "output_type": "stream",
     "text": [
      "Обучение модели:  44%|████▍     | 11/25 [02:32<04:57, 21.27s/it]"
     ]
    },
    {
     "name": "stdout",
     "output_type": "stream",
     "text": [
      "Эпоха 11 /100 - Время: 152.67 секунд - Точность на обучающей выборке: 0.9689 - Точность на тестовой выборке: 0.7933\n"
     ]
    },
    {
     "name": "stderr",
     "output_type": "stream",
     "text": [
      "Обучение модели:  48%|████▊     | 12/25 [02:58<04:54, 22.68s/it]"
     ]
    },
    {
     "name": "stdout",
     "output_type": "stream",
     "text": [
      "Эпоха 12 /100 - Время: 178.57 секунд - Точность на обучающей выборке: 0.9689 - Точность на тестовой выборке: 0.7935\n"
     ]
    },
    {
     "name": "stderr",
     "output_type": "stream",
     "text": [
      "Обучение модели:  52%|█████▏    | 13/25 [03:24<04:44, 23.75s/it]"
     ]
    },
    {
     "name": "stdout",
     "output_type": "stream",
     "text": [
      "Эпоха 13 /100 - Время: 204.78 секунд - Точность на обучающей выборке: 0.9711 - Точность на тестовой выборке: 0.7951\n"
     ]
    },
    {
     "name": "stderr",
     "output_type": "stream",
     "text": [
      "Обучение модели:  56%|█████▌    | 14/25 [03:53<04:36, 25.16s/it]"
     ]
    },
    {
     "name": "stdout",
     "output_type": "stream",
     "text": [
      "Эпоха 14 /100 - Время: 233.20 секунд - Точность на обучающей выборке: 0.9710 - Точность на тестовой выборке: 0.7955\n"
     ]
    },
    {
     "name": "stderr",
     "output_type": "stream",
     "text": [
      "Обучение модели:  60%|██████    | 15/25 [04:24<04:29, 26.99s/it]"
     ]
    },
    {
     "name": "stdout",
     "output_type": "stream",
     "text": [
      "Эпоха 15 /100 - Время: 264.43 секунд - Точность на обучающей выборке: 0.9727 - Точность на тестовой выборке: 0.7967\n"
     ]
    },
    {
     "name": "stderr",
     "output_type": "stream",
     "text": [
      "Обучение модели:  64%|██████▍   | 16/25 [04:59<04:24, 29.36s/it]"
     ]
    },
    {
     "name": "stdout",
     "output_type": "stream",
     "text": [
      "Эпоха 16 /100 - Время: 299.30 секунд - Точность на обучающей выборке: 0.9726 - Точность на тестовой выборке: 0.7969\n"
     ]
    },
    {
     "name": "stderr",
     "output_type": "stream",
     "text": [
      "Обучение модели:  68%|██████▊   | 17/25 [05:35<04:11, 31.40s/it]"
     ]
    },
    {
     "name": "stdout",
     "output_type": "stream",
     "text": [
      "Эпоха 17 /100 - Время: 335.43 секунд - Точность на обучающей выборке: 0.9739 - Точность на тестовой выборке: 0.7975\n"
     ]
    },
    {
     "name": "stderr",
     "output_type": "stream",
     "text": [
      "Обучение модели:  72%|███████▏  | 18/25 [06:16<03:59, 34.22s/it]"
     ]
    },
    {
     "name": "stdout",
     "output_type": "stream",
     "text": [
      "Эпоха 18 /100 - Время: 376.22 секунд - Точность на обучающей выборке: 0.9738 - Точность на тестовой выборке: 0.7979\n"
     ]
    },
    {
     "name": "stderr",
     "output_type": "stream",
     "text": [
      "Обучение модели:  76%|███████▌  | 19/25 [06:59<03:42, 37.07s/it]"
     ]
    },
    {
     "name": "stdout",
     "output_type": "stream",
     "text": [
      "Эпоха 19 /100 - Время: 419.93 секунд - Точность на обучающей выборке: 0.9749 - Точность на тестовой выборке: 0.7986\n"
     ]
    },
    {
     "name": "stderr",
     "output_type": "stream",
     "text": [
      "Обучение модели:  80%|████████  | 20/25 [07:45<03:17, 39.48s/it]"
     ]
    },
    {
     "name": "stdout",
     "output_type": "stream",
     "text": [
      "Эпоха 20 /100 - Время: 465.03 секунд - Точность на обучающей выборке: 0.9749 - Точность на тестовой выборке: 0.7987\n"
     ]
    },
    {
     "name": "stderr",
     "output_type": "stream",
     "text": [
      "Обучение модели:  84%|████████▍ | 21/25 [08:34<02:49, 42.36s/it]"
     ]
    },
    {
     "name": "stdout",
     "output_type": "stream",
     "text": [
      "Эпоха 21 /100 - Время: 514.11 секунд - Точность на обучающей выборке: 0.9756 - Точность на тестовой выборке: 0.7992\n"
     ]
    },
    {
     "name": "stderr",
     "output_type": "stream",
     "text": [
      "Обучение модели:  88%|████████▊ | 22/25 [09:24<02:14, 44.70s/it]"
     ]
    },
    {
     "name": "stdout",
     "output_type": "stream",
     "text": [
      "Эпоха 22 /100 - Время: 564.27 секунд - Точность на обучающей выборке: 0.9755 - Точность на тестовой выборке: 0.7991\n"
     ]
    },
    {
     "name": "stderr",
     "output_type": "stream",
     "text": [
      "Обучение модели:  92%|█████████▏| 23/25 [10:16<01:34, 47.03s/it]"
     ]
    },
    {
     "name": "stdout",
     "output_type": "stream",
     "text": [
      "Эпоха 23 /100 - Время: 616.74 секунд - Точность на обучающей выборке: 0.9763 - Точность на тестовой выборке: 0.8004\n"
     ]
    },
    {
     "name": "stderr",
     "output_type": "stream",
     "text": [
      "Обучение модели:  96%|█████████▌| 24/25 [11:07<00:48, 48.13s/it]"
     ]
    },
    {
     "name": "stdout",
     "output_type": "stream",
     "text": [
      "Эпоха 24 /100 - Время: 667.42 секунд - Точность на обучающей выборке: 0.9762 - Точность на тестовой выборке: 0.7998\n"
     ]
    },
    {
     "name": "stderr",
     "output_type": "stream",
     "text": [
      "Обучение модели: 100%|██████████| 25/25 [11:58<00:00, 28.73s/it]\n"
     ]
    },
    {
     "name": "stdout",
     "output_type": "stream",
     "text": [
      "Эпоха 25 /100 - Время: 718.30 секунд - Точность на обучающей выборке: 0.9768 - Точность на тестовой выборке: 0.8004\n",
      "Фолд №  26\n"
     ]
    },
    {
     "name": "stderr",
     "output_type": "stream",
     "text": [
      "Обучение модели:   4%|▍         | 1/25 [00:02<01:00,  2.51s/it]"
     ]
    },
    {
     "name": "stdout",
     "output_type": "stream",
     "text": [
      "Эпоха 1  /100 - Время: 2.51 секунд - Точность на обучающей выборке: 0.8957 - Точность на тестовой выборке: 0.7459\n"
     ]
    },
    {
     "name": "stderr",
     "output_type": "stream",
     "text": [
      "Обучение модели:   8%|▊         | 2/25 [00:07<01:27,  3.82s/it]"
     ]
    },
    {
     "name": "stdout",
     "output_type": "stream",
     "text": [
      "Эпоха 2  /100 - Время: 7.24 секунд - Точность на обучающей выборке: 0.8975 - Точность на тестовой выборке: 0.7489\n"
     ]
    },
    {
     "name": "stderr",
     "output_type": "stream",
     "text": [
      "Обучение модели:  12%|█▏        | 3/25 [00:13<01:52,  5.10s/it]"
     ]
    },
    {
     "name": "stdout",
     "output_type": "stream",
     "text": [
      "Эпоха 3  /100 - Время: 13.88 секунд - Точность на обучающей выборке: 0.9385 - Точность на тестовой выборке: 0.7732\n"
     ]
    },
    {
     "name": "stderr",
     "output_type": "stream",
     "text": [
      "Обучение модели:  16%|█▌        | 4/25 [00:22<02:17,  6.57s/it]"
     ]
    },
    {
     "name": "stdout",
     "output_type": "stream",
     "text": [
      "Эпоха 4  /100 - Время: 22.69 секунд - Точность на обучающей выборке: 0.9385 - Точность на тестовой выборке: 0.7727\n"
     ]
    },
    {
     "name": "stderr",
     "output_type": "stream",
     "text": [
      "Обучение модели:  20%|██        | 5/25 [00:33<02:42,  8.11s/it]"
     ]
    },
    {
     "name": "stdout",
     "output_type": "stream",
     "text": [
      "Эпоха 5  /100 - Время: 33.55 секунд - Точность на обучающей выборке: 0.9531 - Точность на тестовой выборке: 0.7816\n"
     ]
    },
    {
     "name": "stderr",
     "output_type": "stream",
     "text": [
      "Обучение модели:  24%|██▍       | 6/25 [00:46<03:04,  9.69s/it]"
     ]
    },
    {
     "name": "stdout",
     "output_type": "stream",
     "text": [
      "Эпоха 6  /100 - Время: 46.29 секунд - Точность на обучающей выборке: 0.9536 - Точность на тестовой выборке: 0.7822\n"
     ]
    },
    {
     "name": "stderr",
     "output_type": "stream",
     "text": [
      "Обучение модели:  28%|██▊       | 7/25 [01:00<03:23, 11.33s/it]"
     ]
    },
    {
     "name": "stdout",
     "output_type": "stream",
     "text": [
      "Эпоха 7  /100 - Время: 60.99 секунд - Точность на обучающей выборке: 0.9612 - Точность на тестовой выборке: 0.7869\n"
     ]
    },
    {
     "name": "stderr",
     "output_type": "stream",
     "text": [
      "Обучение модели:  32%|███▏      | 8/25 [01:18<03:43, 13.17s/it]"
     ]
    },
    {
     "name": "stdout",
     "output_type": "stream",
     "text": [
      "Эпоха 8  /100 - Время: 78.10 секунд - Точность на обучающей выборке: 0.9613 - Точность на тестовой выборке: 0.7873\n"
     ]
    },
    {
     "name": "stderr",
     "output_type": "stream",
     "text": [
      "Обучение модели:  36%|███▌      | 9/25 [01:37<04:00, 15.04s/it]"
     ]
    },
    {
     "name": "stdout",
     "output_type": "stream",
     "text": [
      "Эпоха 9  /100 - Время: 97.24 секунд - Точность на обучающей выборке: 0.9659 - Точность на тестовой выборке: 0.7904\n"
     ]
    },
    {
     "name": "stderr",
     "output_type": "stream",
     "text": [
      "Обучение модели:  40%|████      | 10/25 [01:58<04:14, 16.94s/it]"
     ]
    },
    {
     "name": "stdout",
     "output_type": "stream",
     "text": [
      "Эпоха 10 /100 - Время: 118.46 секунд - Точность на обучающей выборке: 0.9659 - Точность на тестовой выборке: 0.7907\n"
     ]
    },
    {
     "name": "stderr",
     "output_type": "stream",
     "text": [
      "Обучение модели:  44%|████▍     | 11/25 [02:21<04:24, 18.91s/it]"
     ]
    },
    {
     "name": "stdout",
     "output_type": "stream",
     "text": [
      "Эпоха 11 /100 - Время: 141.82 секунд - Точность на обучающей выборке: 0.9690 - Точность на тестовой выборке: 0.7923\n"
     ]
    },
    {
     "name": "stderr",
     "output_type": "stream",
     "text": [
      "Обучение модели:  48%|████▊     | 12/25 [02:47<04:33, 21.07s/it]"
     ]
    },
    {
     "name": "stdout",
     "output_type": "stream",
     "text": [
      "Эпоха 12 /100 - Время: 167.82 секунд - Точность на обучающей выборке: 0.9690 - Точность на тестовой выборке: 0.7921\n"
     ]
    },
    {
     "name": "stderr",
     "output_type": "stream",
     "text": [
      "Обучение модели:  52%|█████▏    | 13/25 [03:15<04:36, 23.02s/it]"
     ]
    },
    {
     "name": "stdout",
     "output_type": "stream",
     "text": [
      "Эпоха 13 /100 - Время: 195.33 секунд - Точность на обучающей выборке: 0.9711 - Точность на тестовой выборке: 0.7930\n"
     ]
    },
    {
     "name": "stderr",
     "output_type": "stream",
     "text": [
      "Обучение модели:  56%|█████▌    | 14/25 [03:45<04:36, 25.12s/it]"
     ]
    },
    {
     "name": "stdout",
     "output_type": "stream",
     "text": [
      "Эпоха 14 /100 - Время: 225.31 секунд - Точность на обучающей выборке: 0.9711 - Точность на тестовой выборке: 0.7931\n"
     ]
    },
    {
     "name": "stderr",
     "output_type": "stream",
     "text": [
      "Обучение модели:  60%|██████    | 15/25 [04:16<04:28, 26.90s/it]"
     ]
    },
    {
     "name": "stdout",
     "output_type": "stream",
     "text": [
      "Эпоха 15 /100 - Время: 256.33 секунд - Точность на обучающей выборке: 0.9726 - Точность на тестовой выборке: 0.7940\n"
     ]
    },
    {
     "name": "stderr",
     "output_type": "stream",
     "text": [
      "Обучение модели:  64%|██████▍   | 16/25 [04:49<04:18, 28.68s/it]"
     ]
    },
    {
     "name": "stdout",
     "output_type": "stream",
     "text": [
      "Эпоха 16 /100 - Время: 289.15 секунд - Точность на обучающей выборке: 0.9726 - Точность на тестовой выборке: 0.7941\n"
     ]
    },
    {
     "name": "stderr",
     "output_type": "stream",
     "text": [
      "Обучение модели:  68%|██████▊   | 17/25 [05:24<04:05, 30.64s/it]"
     ]
    },
    {
     "name": "stdout",
     "output_type": "stream",
     "text": [
      "Эпоха 17 /100 - Время: 324.35 секунд - Точность на обучающей выборке: 0.9738 - Точность на тестовой выборке: 0.7950\n"
     ]
    },
    {
     "name": "stderr",
     "output_type": "stream",
     "text": [
      "Обучение модели:  72%|███████▏  | 18/25 [06:01<03:48, 32.63s/it]"
     ]
    },
    {
     "name": "stdout",
     "output_type": "stream",
     "text": [
      "Эпоха 18 /100 - Время: 361.61 секунд - Точность на обучающей выборке: 0.9737 - Точность на тестовой выборке: 0.7951\n"
     ]
    },
    {
     "name": "stderr",
     "output_type": "stream",
     "text": [
      "Обучение модели:  76%|███████▌  | 19/25 [06:40<03:27, 34.55s/it]"
     ]
    },
    {
     "name": "stdout",
     "output_type": "stream",
     "text": [
      "Эпоха 19 /100 - Время: 400.62 секунд - Точность на обучающей выборке: 0.9748 - Точность на тестовой выборке: 0.7962\n"
     ]
    },
    {
     "name": "stderr",
     "output_type": "stream",
     "text": [
      "Обучение модели:  80%|████████  | 20/25 [07:21<03:02, 36.46s/it]"
     ]
    },
    {
     "name": "stdout",
     "output_type": "stream",
     "text": [
      "Эпоха 20 /100 - Время: 441.54 секунд - Точность на обучающей выборке: 0.9746 - Точность на тестовой выборке: 0.7961\n"
     ]
    },
    {
     "name": "stderr",
     "output_type": "stream",
     "text": [
      "Обучение модели:  84%|████████▍ | 21/25 [08:04<02:33, 38.48s/it]"
     ]
    },
    {
     "name": "stdout",
     "output_type": "stream",
     "text": [
      "Эпоха 21 /100 - Время: 484.74 секунд - Точность на обучающей выборке: 0.9755 - Точность на тестовой выборке: 0.7974\n"
     ]
    },
    {
     "name": "stderr",
     "output_type": "stream",
     "text": [
      "Обучение модели:  88%|████████▊ | 22/25 [08:47<01:59, 39.85s/it]"
     ]
    },
    {
     "name": "stdout",
     "output_type": "stream",
     "text": [
      "Эпоха 22 /100 - Время: 527.78 секунд - Точность на обучающей выборке: 0.9755 - Точность на тестовой выборке: 0.7974\n"
     ]
    },
    {
     "name": "stderr",
     "output_type": "stream",
     "text": [
      "Обучение модели:  92%|█████████▏| 23/25 [09:31<01:21, 40.99s/it]"
     ]
    },
    {
     "name": "stdout",
     "output_type": "stream",
     "text": [
      "Эпоха 23 /100 - Время: 571.43 секунд - Точность на обучающей выборке: 0.9762 - Точность на тестовой выборке: 0.7978\n"
     ]
    },
    {
     "name": "stderr",
     "output_type": "stream",
     "text": [
      "Обучение модели:  96%|█████████▌| 24/25 [10:17<00:42, 42.47s/it]"
     ]
    },
    {
     "name": "stdout",
     "output_type": "stream",
     "text": [
      "Эпоха 24 /100 - Время: 617.36 секунд - Точность на обучающей выборке: 0.9761 - Точность на тестовой выборке: 0.7977\n"
     ]
    },
    {
     "name": "stderr",
     "output_type": "stream",
     "text": [
      "Обучение модели: 100%|██████████| 25/25 [11:05<00:00, 26.60s/it]\n"
     ]
    },
    {
     "name": "stdout",
     "output_type": "stream",
     "text": [
      "Эпоха 25 /100 - Время: 665.11 секунд - Точность на обучающей выборке: 0.9767 - Точность на тестовой выборке: 0.7984\n",
      "Фолд №  51\n"
     ]
    },
    {
     "name": "stderr",
     "output_type": "stream",
     "text": [
      "Обучение модели:   4%|▍         | 1/25 [00:02<00:55,  2.32s/it]"
     ]
    },
    {
     "name": "stdout",
     "output_type": "stream",
     "text": [
      "Эпоха 1  /100 - Время: 2.32 секунд - Точность на обучающей выборке: 0.8953 - Точность на тестовой выборке: 0.7472\n"
     ]
    },
    {
     "name": "stderr",
     "output_type": "stream",
     "text": [
      "Обучение модели:   8%|▊         | 2/25 [00:06<01:19,  3.45s/it]"
     ]
    },
    {
     "name": "stdout",
     "output_type": "stream",
     "text": [
      "Эпоха 2  /100 - Время: 6.57 секунд - Точность на обучающей выборке: 0.8973 - Точность на тестовой выборке: 0.7498\n"
     ]
    },
    {
     "name": "stderr",
     "output_type": "stream",
     "text": [
      "Обучение модели:  12%|█▏        | 3/25 [00:12<01:41,  4.59s/it]"
     ]
    },
    {
     "name": "stdout",
     "output_type": "stream",
     "text": [
      "Эпоха 3  /100 - Время: 12.52 секунд - Точность на обучающей выборке: 0.9381 - Точность на тестовой выборке: 0.7729\n"
     ]
    },
    {
     "name": "stderr",
     "output_type": "stream",
     "text": [
      "Обучение модели:  16%|█▌        | 4/25 [00:20<02:03,  5.88s/it]"
     ]
    },
    {
     "name": "stdout",
     "output_type": "stream",
     "text": [
      "Эпоха 4  /100 - Время: 20.36 секунд - Точность на обучающей выборке: 0.9381 - Точность на тестовой выборке: 0.7747\n"
     ]
    },
    {
     "name": "stderr",
     "output_type": "stream",
     "text": [
      "Обучение модели:  20%|██        | 5/25 [00:30<02:26,  7.32s/it]"
     ]
    },
    {
     "name": "stdout",
     "output_type": "stream",
     "text": [
      "Эпоха 5  /100 - Время: 30.25 секунд - Точность на обучающей выборке: 0.9534 - Точность на тестовой выборке: 0.7837\n"
     ]
    },
    {
     "name": "stderr",
     "output_type": "stream",
     "text": [
      "Обучение модели:  24%|██▍       | 6/25 [00:41<02:47,  8.82s/it]"
     ]
    },
    {
     "name": "stdout",
     "output_type": "stream",
     "text": [
      "Эпоха 6  /100 - Время: 41.97 секунд - Точность на обучающей выборке: 0.9533 - Точность на тестовой выборке: 0.7838\n"
     ]
    },
    {
     "name": "stderr",
     "output_type": "stream",
     "text": [
      "Обучение модели:  28%|██▊       | 7/25 [00:55<03:06, 10.39s/it]"
     ]
    },
    {
     "name": "stdout",
     "output_type": "stream",
     "text": [
      "Эпоха 7  /100 - Время: 55.59 секунд - Точность на обучающей выборке: 0.9613 - Точность на тестовой выборке: 0.7893\n"
     ]
    },
    {
     "name": "stderr",
     "output_type": "stream",
     "text": [
      "Обучение модели:  32%|███▏      | 8/25 [01:11<03:24, 12.01s/it]"
     ]
    },
    {
     "name": "stdout",
     "output_type": "stream",
     "text": [
      "Эпоха 8  /100 - Время: 71.09 секунд - Точность на обучающей выборке: 0.9611 - Точность на тестовой выборке: 0.7898\n"
     ]
    },
    {
     "name": "stderr",
     "output_type": "stream",
     "text": [
      "Обучение модели:  36%|███▌      | 9/25 [01:28<03:39, 13.74s/it]"
     ]
    },
    {
     "name": "stdout",
     "output_type": "stream",
     "text": [
      "Эпоха 9  /100 - Время: 88.64 секунд - Точность на обучающей выборке: 0.9660 - Точность на тестовой выборке: 0.7923\n"
     ]
    },
    {
     "name": "stderr",
     "output_type": "stream",
     "text": [
      "Обучение модели:  40%|████      | 10/25 [01:47<03:50, 15.40s/it]"
     ]
    },
    {
     "name": "stdout",
     "output_type": "stream",
     "text": [
      "Эпоха 10 /100 - Время: 107.73 секунд - Точность на обучающей выборке: 0.9657 - Точность на тестовой выборке: 0.7924\n"
     ]
    },
    {
     "name": "stderr",
     "output_type": "stream",
     "text": [
      "Обучение модели:  44%|████▍     | 11/25 [02:08<03:59, 17.13s/it]"
     ]
    },
    {
     "name": "stdout",
     "output_type": "stream",
     "text": [
      "Эпоха 11 /100 - Время: 128.78 секунд - Точность на обучающей выборке: 0.9689 - Точность на тестовой выборке: 0.7945\n"
     ]
    },
    {
     "name": "stderr",
     "output_type": "stream",
     "text": [
      "Обучение модели:  48%|████▊     | 12/25 [02:31<04:06, 18.93s/it]"
     ]
    },
    {
     "name": "stdout",
     "output_type": "stream",
     "text": [
      "Эпоха 12 /100 - Время: 151.84 секунд - Точность на обучающей выборке: 0.9690 - Точность на тестовой выборке: 0.7950\n"
     ]
    },
    {
     "name": "stderr",
     "output_type": "stream",
     "text": [
      "Обучение модели:  52%|█████▏    | 13/25 [02:56<04:08, 20.75s/it]"
     ]
    },
    {
     "name": "stdout",
     "output_type": "stream",
     "text": [
      "Эпоха 13 /100 - Время: 176.77 секунд - Точность на обучающей выборке: 0.9712 - Точность на тестовой выборке: 0.7967\n"
     ]
    },
    {
     "name": "stderr",
     "output_type": "stream",
     "text": [
      "Обучение модели:  56%|█████▌    | 14/25 [03:23<04:08, 22.57s/it]"
     ]
    },
    {
     "name": "stdout",
     "output_type": "stream",
     "text": [
      "Эпоха 14 /100 - Время: 203.54 секунд - Точность на обучающей выборке: 0.9711 - Точность на тестовой выборке: 0.7963\n"
     ]
    },
    {
     "name": "stderr",
     "output_type": "stream",
     "text": [
      "Обучение модели:  60%|██████    | 15/25 [03:52<04:03, 24.37s/it]"
     ]
    },
    {
     "name": "stdout",
     "output_type": "stream",
     "text": [
      "Эпоха 15 /100 - Время: 232.10 секунд - Точность на обучающей выборке: 0.9727 - Точность на тестовой выборке: 0.7969\n"
     ]
    },
    {
     "name": "stderr",
     "output_type": "stream",
     "text": [
      "Обучение модели:  64%|██████▍   | 16/25 [04:22<03:55, 26.22s/it]"
     ]
    },
    {
     "name": "stdout",
     "output_type": "stream",
     "text": [
      "Эпоха 16 /100 - Время: 262.60 секунд - Точность на обучающей выборке: 0.9727 - Точность на тестовой выборке: 0.7971\n"
     ]
    },
    {
     "name": "stderr",
     "output_type": "stream",
     "text": [
      "Обучение модели:  68%|██████▊   | 17/25 [04:55<03:44, 28.10s/it]"
     ]
    },
    {
     "name": "stdout",
     "output_type": "stream",
     "text": [
      "Эпоха 17 /100 - Время: 295.07 секунд - Точность на обучающей выборке: 0.9740 - Точность на тестовой выборке: 0.7989\n"
     ]
    },
    {
     "name": "stderr",
     "output_type": "stream",
     "text": [
      "Обучение модели:  72%|███████▏  | 18/25 [05:29<03:29, 29.94s/it]"
     ]
    },
    {
     "name": "stdout",
     "output_type": "stream",
     "text": [
      "Эпоха 18 /100 - Время: 329.29 секунд - Точность на обучающей выборке: 0.9738 - Точность на тестовой выборке: 0.7986\n"
     ]
    },
    {
     "name": "stderr",
     "output_type": "stream",
     "text": [
      "Обучение модели:  76%|███████▌  | 19/25 [06:05<03:10, 31.82s/it]"
     ]
    },
    {
     "name": "stdout",
     "output_type": "stream",
     "text": [
      "Эпоха 19 /100 - Время: 365.49 секунд - Точность на обучающей выборке: 0.9751 - Точность на тестовой выборке: 0.7995\n"
     ]
    },
    {
     "name": "stderr",
     "output_type": "stream",
     "text": [
      "Обучение модели:  80%|████████  | 20/25 [06:43<02:48, 33.61s/it]"
     ]
    },
    {
     "name": "stdout",
     "output_type": "stream",
     "text": [
      "Эпоха 20 /100 - Время: 403.26 секунд - Точность на обучающей выборке: 0.9749 - Точность на тестовой выборке: 0.7993\n"
     ]
    },
    {
     "name": "stderr",
     "output_type": "stream",
     "text": [
      "Обучение модели:  84%|████████▍ | 21/25 [07:23<02:22, 35.67s/it]"
     ]
    },
    {
     "name": "stdout",
     "output_type": "stream",
     "text": [
      "Эпоха 21 /100 - Время: 443.75 секунд - Точность на обучающей выборке: 0.9757 - Точность на тестовой выборке: 0.8002\n"
     ]
    },
    {
     "name": "stderr",
     "output_type": "stream",
     "text": [
      "Обучение модели:  88%|████████▊ | 22/25 [08:05<01:52, 37.48s/it]"
     ]
    },
    {
     "name": "stdout",
     "output_type": "stream",
     "text": [
      "Эпоха 22 /100 - Время: 485.44 секунд - Точность на обучающей выборке: 0.9757 - Точность на тестовой выборке: 0.7995\n"
     ]
    },
    {
     "name": "stderr",
     "output_type": "stream",
     "text": [
      "Обучение модели:  92%|█████████▏| 23/25 [08:48<01:18, 39.29s/it]"
     ]
    },
    {
     "name": "stdout",
     "output_type": "stream",
     "text": [
      "Эпоха 23 /100 - Время: 528.97 секунд - Точность на обучающей выборке: 0.9764 - Точность на тестовой выборке: 0.8006\n"
     ]
    },
    {
     "name": "stderr",
     "output_type": "stream",
     "text": [
      "Обучение модели:  96%|█████████▌| 24/25 [09:34<00:41, 41.13s/it]"
     ]
    },
    {
     "name": "stdout",
     "output_type": "stream",
     "text": [
      "Эпоха 24 /100 - Время: 574.38 секунд - Точность на обучающей выборке: 0.9763 - Точность на тестовой выборке: 0.8004\n"
     ]
    },
    {
     "name": "stderr",
     "output_type": "stream",
     "text": [
      "Обучение модели: 100%|██████████| 25/25 [10:21<00:00, 24.87s/it]\n"
     ]
    },
    {
     "name": "stdout",
     "output_type": "stream",
     "text": [
      "Эпоха 25 /100 - Время: 621.83 секунд - Точность на обучающей выборке: 0.9768 - Точность на тестовой выборке: 0.8012\n",
      "Фолд №  76\n"
     ]
    },
    {
     "name": "stderr",
     "output_type": "stream",
     "text": [
      "Обучение модели:   4%|▍         | 1/25 [00:02<00:56,  2.34s/it]"
     ]
    },
    {
     "name": "stdout",
     "output_type": "stream",
     "text": [
      "Эпоха 1  /100 - Время: 2.34 секунд - Точность на обучающей выборке: 0.8966 - Точность на тестовой выборке: 0.7459\n"
     ]
    },
    {
     "name": "stderr",
     "output_type": "stream",
     "text": [
      "Обучение модели:   8%|▊         | 2/25 [00:06<01:17,  3.39s/it]"
     ]
    },
    {
     "name": "stdout",
     "output_type": "stream",
     "text": [
      "Эпоха 2  /100 - Время: 6.47 секунд - Точность на обучающей выборке: 0.8978 - Точность на тестовой выборке: 0.7482\n"
     ]
    },
    {
     "name": "stderr",
     "output_type": "stream",
     "text": [
      "Обучение модели:  12%|█▏        | 3/25 [00:12<01:40,  4.59s/it]"
     ]
    },
    {
     "name": "stdout",
     "output_type": "stream",
     "text": [
      "Эпоха 3  /100 - Время: 12.48 секунд - Точность на обучающей выборке: 0.9381 - Точность на тестовой выборке: 0.7738\n"
     ]
    },
    {
     "name": "stderr",
     "output_type": "stream",
     "text": [
      "Обучение модели:  16%|█▌        | 4/25 [00:20<02:06,  6.00s/it]"
     ]
    },
    {
     "name": "stdout",
     "output_type": "stream",
     "text": [
      "Эпоха 4  /100 - Время: 20.65 секунд - Точность на обучающей выборке: 0.9382 - Точность на тестовой выборке: 0.7751\n"
     ]
    },
    {
     "name": "stderr",
     "output_type": "stream",
     "text": [
      "Обучение модели:  20%|██        | 5/25 [00:30<02:28,  7.43s/it]"
     ]
    },
    {
     "name": "stdout",
     "output_type": "stream",
     "text": [
      "Эпоха 5  /100 - Время: 30.60 секунд - Точность на обучающей выборке: 0.9533 - Точность на тестовой выборке: 0.7841\n"
     ]
    },
    {
     "name": "stderr",
     "output_type": "stream",
     "text": [
      "Обучение модели:  24%|██▍       | 6/25 [00:42<02:50,  8.97s/it]"
     ]
    },
    {
     "name": "stdout",
     "output_type": "stream",
     "text": [
      "Эпоха 6  /100 - Время: 42.57 секунд - Точность на обучающей выборке: 0.9536 - Точность на тестовой выборке: 0.7837\n"
     ]
    },
    {
     "name": "stderr",
     "output_type": "stream",
     "text": [
      "Обучение модели:  28%|██▊       | 7/25 [00:56<03:09, 10.54s/it]"
     ]
    },
    {
     "name": "stdout",
     "output_type": "stream",
     "text": [
      "Эпоха 7  /100 - Время: 56.35 секунд - Точность на обучающей выборке: 0.9617 - Точность на тестовой выборке: 0.7890\n"
     ]
    },
    {
     "name": "stderr",
     "output_type": "stream",
     "text": [
      "Обучение модели:  32%|███▏      | 8/25 [01:12<03:27, 12.20s/it]"
     ]
    },
    {
     "name": "stdout",
     "output_type": "stream",
     "text": [
      "Эпоха 8  /100 - Время: 72.11 секунд - Точность на обучающей выборке: 0.9615 - Точность на тестовой выборке: 0.7890\n"
     ]
    },
    {
     "name": "stderr",
     "output_type": "stream",
     "text": [
      "Обучение модели:  36%|███▌      | 9/25 [01:29<03:41, 13.85s/it]"
     ]
    },
    {
     "name": "stdout",
     "output_type": "stream",
     "text": [
      "Эпоха 9  /100 - Время: 89.58 секунд - Точность на обучающей выборке: 0.9663 - Точность на тестовой выборке: 0.7928\n"
     ]
    },
    {
     "name": "stderr",
     "output_type": "stream",
     "text": [
      "Обучение модели:  40%|████      | 10/25 [01:49<03:54, 15.62s/it]"
     ]
    },
    {
     "name": "stdout",
     "output_type": "stream",
     "text": [
      "Эпоха 10 /100 - Время: 109.17 секунд - Точность на обучающей выборке: 0.9659 - Точность на тестовой выборке: 0.7929\n"
     ]
    },
    {
     "name": "stderr",
     "output_type": "stream",
     "text": [
      "Обучение модели:  44%|████▍     | 11/25 [02:10<04:03, 17.39s/it]"
     ]
    },
    {
     "name": "stdout",
     "output_type": "stream",
     "text": [
      "Эпоха 11 /100 - Время: 130.57 секунд - Точность на обучающей выборке: 0.9692 - Точность на тестовой выборке: 0.7949\n"
     ]
    },
    {
     "name": "stderr",
     "output_type": "stream",
     "text": [
      "Обучение модели:  48%|████▊     | 12/25 [02:33<04:09, 19.18s/it]"
     ]
    },
    {
     "name": "stdout",
     "output_type": "stream",
     "text": [
      "Эпоха 12 /100 - Время: 153.86 секунд - Точность на обучающей выборке: 0.9691 - Точность на тестовой выборке: 0.7948\n"
     ]
    },
    {
     "name": "stderr",
     "output_type": "stream",
     "text": [
      "Обучение модели:  52%|█████▏    | 13/25 [02:58<04:11, 20.96s/it]"
     ]
    },
    {
     "name": "stdout",
     "output_type": "stream",
     "text": [
      "Эпоха 13 /100 - Время: 178.91 секунд - Точность на обучающей выборке: 0.9713 - Точность на тестовой выборке: 0.7962\n"
     ]
    },
    {
     "name": "stderr",
     "output_type": "stream",
     "text": [
      "Обучение модели:  56%|█████▌    | 14/25 [03:25<04:10, 22.76s/it]"
     ]
    },
    {
     "name": "stdout",
     "output_type": "stream",
     "text": [
      "Эпоха 14 /100 - Время: 205.82 секунд - Точность на обучающей выборке: 0.9712 - Точность на тестовой выборке: 0.7958\n"
     ]
    },
    {
     "name": "stderr",
     "output_type": "stream",
     "text": [
      "Обучение модели:  60%|██████    | 15/25 [03:54<04:05, 24.56s/it]"
     ]
    },
    {
     "name": "stdout",
     "output_type": "stream",
     "text": [
      "Эпоха 15 /100 - Время: 234.54 секунд - Точность на обучающей выборке: 0.9727 - Точность на тестовой выборке: 0.7972\n"
     ]
    },
    {
     "name": "stderr",
     "output_type": "stream",
     "text": [
      "Обучение модели:  64%|██████▍   | 16/25 [04:25<03:58, 26.54s/it]"
     ]
    },
    {
     "name": "stdout",
     "output_type": "stream",
     "text": [
      "Эпоха 16 /100 - Время: 265.69 секунд - Точность на обучающей выборке: 0.9727 - Точность на тестовой выборке: 0.7973\n"
     ]
    },
    {
     "name": "stderr",
     "output_type": "stream",
     "text": [
      "Обучение модели:  68%|██████▊   | 17/25 [04:58<03:47, 28.47s/it]"
     ]
    },
    {
     "name": "stdout",
     "output_type": "stream",
     "text": [
      "Эпоха 17 /100 - Время: 298.65 секунд - Точность на обучающей выборке: 0.9739 - Точность на тестовой выборке: 0.7982\n"
     ]
    },
    {
     "name": "stderr",
     "output_type": "stream",
     "text": [
      "Обучение модели:  72%|███████▏  | 18/25 [05:33<03:32, 30.30s/it]"
     ]
    },
    {
     "name": "stdout",
     "output_type": "stream",
     "text": [
      "Эпоха 18 /100 - Время: 333.21 секунд - Точность на обучающей выборке: 0.9738 - Точность на тестовой выборке: 0.7983\n"
     ]
    },
    {
     "name": "stderr",
     "output_type": "stream",
     "text": [
      "Обучение модели:  76%|███████▌  | 19/25 [06:09<03:12, 32.13s/it]"
     ]
    },
    {
     "name": "stdout",
     "output_type": "stream",
     "text": [
      "Эпоха 19 /100 - Время: 369.62 секунд - Точность на обучающей выборке: 0.9749 - Точность на тестовой выборке: 0.7991\n"
     ]
    },
    {
     "name": "stderr",
     "output_type": "stream",
     "text": [
      "Обучение модели:  80%|████████  | 20/25 [06:47<02:49, 33.92s/it]"
     ]
    },
    {
     "name": "stdout",
     "output_type": "stream",
     "text": [
      "Эпоха 20 /100 - Время: 407.71 секунд - Точность на обучающей выборке: 0.9749 - Точность на тестовой выборке: 0.7990\n"
     ]
    },
    {
     "name": "stderr",
     "output_type": "stream",
     "text": [
      "Обучение модели:  84%|████████▍ | 21/25 [10:19<05:49, 87.43s/it]"
     ]
    },
    {
     "name": "stdout",
     "output_type": "stream",
     "text": [
      "Эпоха 21 /100 - Время: 619.88 секунд - Точность на обучающей выборке: 0.9757 - Точность на тестовой выборке: 0.7999\n"
     ]
    },
    {
     "name": "stderr",
     "output_type": "stream",
     "text": [
      "Обучение модели:  88%|████████▊ | 22/25 [11:08<03:46, 75.63s/it]"
     ]
    },
    {
     "name": "stdout",
     "output_type": "stream",
     "text": [
      "Эпоха 22 /100 - Время: 668.02 секунд - Точность на обучающей выборке: 0.9757 - Точность на тестовой выборке: 0.7993\n"
     ]
    },
    {
     "name": "stderr",
     "output_type": "stream",
     "text": [
      "Обучение модели:  92%|█████████▏| 23/25 [11:58<02:16, 68.09s/it]"
     ]
    },
    {
     "name": "stdout",
     "output_type": "stream",
     "text": [
      "Эпоха 23 /100 - Время: 718.51 секунд - Точность на обучающей выборке: 0.9763 - Точность на тестовой выборке: 0.8000\n"
     ]
    },
    {
     "name": "stderr",
     "output_type": "stream",
     "text": [
      "Обучение модели:  96%|█████████▌| 24/25 [12:50<01:03, 63.40s/it]"
     ]
    },
    {
     "name": "stdout",
     "output_type": "stream",
     "text": [
      "Эпоха 24 /100 - Время: 770.97 секунд - Точность на обучающей выборке: 0.9762 - Точность на тестовой выборке: 0.7994\n"
     ]
    },
    {
     "name": "stderr",
     "output_type": "stream",
     "text": [
      "Обучение модели: 100%|██████████| 25/25 [13:44<00:00, 32.98s/it]\n"
     ]
    },
    {
     "name": "stdout",
     "output_type": "stream",
     "text": [
      "Эпоха 25 /100 - Время: 824.38 секунд - Точность на обучающей выборке: 0.9767 - Точность на тестовой выборке: 0.8002\n",
      "Фолд №  101\n"
     ]
    },
    {
     "name": "stderr",
     "output_type": "stream",
     "text": [
      "Обучение модели:   4%|▍         | 1/25 [00:02<01:02,  2.60s/it]"
     ]
    },
    {
     "name": "stdout",
     "output_type": "stream",
     "text": [
      "Эпоха 1  /100 - Время: 2.60 секунд - Точность на обучающей выборке: 0.8958 - Точность на тестовой выборке: 0.7454\n"
     ]
    },
    {
     "name": "stderr",
     "output_type": "stream",
     "text": [
      "Обучение модели:   8%|▊         | 2/25 [00:07<01:28,  3.86s/it]"
     ]
    },
    {
     "name": "stdout",
     "output_type": "stream",
     "text": [
      "Эпоха 2  /100 - Время: 7.35 секунд - Точность на обучающей выборке: 0.8973 - Точность на тестовой выборке: 0.7495\n"
     ]
    },
    {
     "name": "stderr",
     "output_type": "stream",
     "text": [
      "Обучение модели:  12%|█▏        | 3/25 [00:14<01:58,  5.37s/it]"
     ]
    },
    {
     "name": "stdout",
     "output_type": "stream",
     "text": [
      "Эпоха 3  /100 - Время: 14.51 секунд - Точность на обучающей выборке: 0.9380 - Точность на тестовой выборке: 0.7728\n"
     ]
    },
    {
     "name": "stderr",
     "output_type": "stream",
     "text": [
      "Обучение модели:  16%|█▌        | 4/25 [00:23<02:25,  6.95s/it]"
     ]
    },
    {
     "name": "stdout",
     "output_type": "stream",
     "text": [
      "Эпоха 4  /100 - Время: 23.88 секунд - Точность на обучающей выборке: 0.9381 - Точность на тестовой выборке: 0.7750\n"
     ]
    },
    {
     "name": "stderr",
     "output_type": "stream",
     "text": [
      "Обучение модели:  20%|██        | 5/25 [00:36<03:01,  9.08s/it]"
     ]
    },
    {
     "name": "stdout",
     "output_type": "stream",
     "text": [
      "Эпоха 5  /100 - Время: 36.75 секунд - Точность на обучающей выборке: 0.9535 - Точность на тестовой выборке: 0.7839\n"
     ]
    },
    {
     "name": "stderr",
     "output_type": "stream",
     "text": [
      "Обучение модели:  24%|██▍       | 6/25 [00:49<03:19, 10.49s/it]"
     ]
    },
    {
     "name": "stdout",
     "output_type": "stream",
     "text": [
      "Эпоха 6  /100 - Время: 49.96 секунд - Точность на обучающей выборке: 0.9535 - Точность на тестовой выборке: 0.7850\n"
     ]
    },
    {
     "name": "stderr",
     "output_type": "stream",
     "text": [
      "Обучение модели:  28%|██▊       | 7/25 [01:05<03:37, 12.10s/it]"
     ]
    },
    {
     "name": "stdout",
     "output_type": "stream",
     "text": [
      "Эпоха 7  /100 - Время: 65.38 секунд - Точность на обучающей выборке: 0.9613 - Точность на тестовой выборке: 0.7885\n"
     ]
    },
    {
     "name": "stderr",
     "output_type": "stream",
     "text": [
      "Обучение модели:  32%|███▏      | 8/25 [01:22<03:53, 13.73s/it]"
     ]
    },
    {
     "name": "stdout",
     "output_type": "stream",
     "text": [
      "Эпоха 8  /100 - Время: 82.59 секунд - Точность на обучающей выборке: 0.9614 - Точность на тестовой выборке: 0.7895\n"
     ]
    },
    {
     "name": "stderr",
     "output_type": "stream",
     "text": [
      "Обучение модели:  36%|███▌      | 9/25 [01:42<04:09, 15.58s/it]"
     ]
    },
    {
     "name": "stdout",
     "output_type": "stream",
     "text": [
      "Эпоха 9  /100 - Время: 102.26 секунд - Точность на обучающей выборке: 0.9662 - Точность на тестовой выборке: 0.7907\n"
     ]
    },
    {
     "name": "stderr",
     "output_type": "stream",
     "text": [
      "Обучение модели:  40%|████      | 10/25 [02:05<04:29, 17.97s/it]"
     ]
    },
    {
     "name": "stdout",
     "output_type": "stream",
     "text": [
      "Эпоха 10 /100 - Время: 125.57 секунд - Точность на обучающей выборке: 0.9659 - Точность на тестовой выборке: 0.7911\n"
     ]
    },
    {
     "name": "stderr",
     "output_type": "stream",
     "text": [
      "Обучение модели:  44%|████▍     | 11/25 [02:30<04:39, 19.98s/it]"
     ]
    },
    {
     "name": "stdout",
     "output_type": "stream",
     "text": [
      "Эпоха 11 /100 - Время: 150.12 секунд - Точность на обучающей выборке: 0.9692 - Точность на тестовой выборке: 0.7931\n"
     ]
    },
    {
     "name": "stderr",
     "output_type": "stream",
     "text": [
      "Обучение модели:  48%|████▊     | 12/25 [02:56<04:43, 21.84s/it]"
     ]
    },
    {
     "name": "stdout",
     "output_type": "stream",
     "text": [
      "Эпоха 12 /100 - Время: 176.20 секунд - Точность на обучающей выборке: 0.9690 - Точность на тестовой выборке: 0.7921\n"
     ]
    },
    {
     "name": "stderr",
     "output_type": "stream",
     "text": [
      "Обучение модели:  52%|█████▏    | 13/25 [03:24<04:45, 23.81s/it]"
     ]
    },
    {
     "name": "stdout",
     "output_type": "stream",
     "text": [
      "Эпоха 13 /100 - Время: 204.54 секунд - Точность на обучающей выборке: 0.9714 - Точность на тестовой выборке: 0.7939\n"
     ]
    },
    {
     "name": "stderr",
     "output_type": "stream",
     "text": [
      "Обучение модели:  56%|█████▌    | 14/25 [03:55<04:44, 25.84s/it]"
     ]
    },
    {
     "name": "stdout",
     "output_type": "stream",
     "text": [
      "Эпоха 14 /100 - Время: 235.08 секунд - Точность на обучающей выборке: 0.9712 - Точность на тестовой выборке: 0.7938\n"
     ]
    },
    {
     "name": "stderr",
     "output_type": "stream",
     "text": [
      "Обучение модели:  60%|██████    | 15/25 [04:27<04:38, 27.88s/it]"
     ]
    },
    {
     "name": "stdout",
     "output_type": "stream",
     "text": [
      "Эпоха 15 /100 - Время: 267.67 секунд - Точность на обучающей выборке: 0.9728 - Точность на тестовой выборке: 0.7949\n"
     ]
    },
    {
     "name": "stderr",
     "output_type": "stream",
     "text": [
      "Обучение модели:  64%|██████▍   | 16/25 [05:02<04:28, 29.86s/it]"
     ]
    },
    {
     "name": "stdout",
     "output_type": "stream",
     "text": [
      "Эпоха 16 /100 - Время: 302.16 секунд - Точность на обучающей выборке: 0.9727 - Точность на тестовой выборке: 0.7953\n"
     ]
    },
    {
     "name": "stderr",
     "output_type": "stream",
     "text": [
      "Обучение модели:  68%|██████▊   | 17/25 [05:40<04:19, 32.41s/it]"
     ]
    },
    {
     "name": "stdout",
     "output_type": "stream",
     "text": [
      "Эпоха 17 /100 - Время: 340.49 секунд - Точность на обучающей выборке: 0.9740 - Точность на тестовой выборке: 0.7958\n"
     ]
    },
    {
     "name": "stderr",
     "output_type": "stream",
     "text": [
      "Обучение модели:  72%|███████▏  | 18/25 [06:17<03:56, 33.83s/it]"
     ]
    },
    {
     "name": "stdout",
     "output_type": "stream",
     "text": [
      "Эпоха 18 /100 - Время: 377.62 секунд - Точность на обучающей выборке: 0.9739 - Точность на тестовой выборке: 0.7963\n"
     ]
    },
    {
     "name": "stderr",
     "output_type": "stream",
     "text": [
      "Обучение модели:  76%|███████▌  | 19/25 [06:55<03:30, 35.08s/it]"
     ]
    },
    {
     "name": "stdout",
     "output_type": "stream",
     "text": [
      "Эпоха 19 /100 - Время: 415.60 секунд - Точность на обучающей выборке: 0.9750 - Точность на тестовой выборке: 0.7972\n"
     ]
    },
    {
     "name": "stderr",
     "output_type": "stream",
     "text": [
      "Обучение модели:  80%|████████  | 20/25 [07:34<03:01, 36.25s/it]"
     ]
    },
    {
     "name": "stdout",
     "output_type": "stream",
     "text": [
      "Эпоха 20 /100 - Время: 454.59 секунд - Точность на обучающей выборке: 0.9750 - Точность на тестовой выборке: 0.7976\n"
     ]
    },
    {
     "name": "stderr",
     "output_type": "stream",
     "text": [
      "Обучение модели:  84%|████████▍ | 21/25 [08:15<02:30, 37.72s/it]"
     ]
    },
    {
     "name": "stdout",
     "output_type": "stream",
     "text": [
      "Эпоха 21 /100 - Время: 495.72 секунд - Точность на обучающей выборке: 0.9759 - Точность на тестовой выборке: 0.7978\n"
     ]
    },
    {
     "name": "stderr",
     "output_type": "stream",
     "text": [
      "Обучение модели:  88%|████████▊ | 22/25 [08:58<01:58, 39.34s/it]"
     ]
    },
    {
     "name": "stdout",
     "output_type": "stream",
     "text": [
      "Эпоха 22 /100 - Время: 538.85 секунд - Точность на обучающей выборке: 0.9756 - Точность на тестовой выборке: 0.7978\n"
     ]
    },
    {
     "name": "stderr",
     "output_type": "stream",
     "text": [
      "Обучение модели:  92%|█████████▏| 23/25 [09:43<01:21, 40.98s/it]"
     ]
    },
    {
     "name": "stdout",
     "output_type": "stream",
     "text": [
      "Эпоха 23 /100 - Время: 583.64 секунд - Точность на обучающей выборке: 0.9763 - Точность на тестовой выборке: 0.7986\n"
     ]
    },
    {
     "name": "stderr",
     "output_type": "stream",
     "text": [
      "Обучение модели:  96%|█████████▌| 24/25 [10:30<00:42, 42.70s/it]"
     ]
    },
    {
     "name": "stdout",
     "output_type": "stream",
     "text": [
      "Эпоха 24 /100 - Время: 630.37 секунд - Точность на обучающей выборке: 0.9763 - Точность на тестовой выборке: 0.7984\n"
     ]
    },
    {
     "name": "stderr",
     "output_type": "stream",
     "text": [
      "Обучение модели: 100%|██████████| 25/25 [11:19<00:00, 27.20s/it]"
     ]
    },
    {
     "name": "stdout",
     "output_type": "stream",
     "text": [
      "Эпоха 25 /100 - Время: 679.89 секунд - Точность на обучающей выборке: 0.9768 - Точность на тестовой выборке: 0.7995\n"
     ]
    },
    {
     "name": "stderr",
     "output_type": "stream",
     "text": [
      "\n"
     ]
    }
   ],
   "source": [
    "# Создадим списки для хранения метрик\n",
    "train_accuracies = []\n",
    "test_accuracies = []\n",
    "training_times = []\n",
    "\n",
    "#Для кросс-валидации определим число фолодов:\n",
    "kf = KFold(n_splits = 5)\n",
    "i = 1\n",
    "# Обучим модель\n",
    "for train_index, test_index in kf.split(df_pandas):\n",
    "    print(f'Фолд №  {i}')\n",
    "    X_train = df_pandas.iloc[train_index]\n",
    "    X_test = df_pandas.iloc[test_index]\n",
    "    y_train = y.iloc[train_index]\n",
    "    y_test = y.iloc[test_index]\n",
    "\n",
    "    start_time = time.time()\n",
    "    for n_estimators in tqdm(range(1, 26), desc=\"Обучение модели\"):\n",
    "        model = RandomForestClassifier(n_estimators=n_estimators, random_state=42)\n",
    "    \n",
    "    # Засекаем время обучения\n",
    "        estimator_start_time = time.time()\n",
    "        model.fit(X_train, y_train)\n",
    "        estimator_time = time.time() - estimator_start_time\n",
    "    \n",
    "    # Оценка точности на обучающей и тестовой выборках\n",
    "        train_accuracy = accuracy_score(y_train, model.predict(X_train))\n",
    "        test_accuracy = accuracy_score(y_test, model.predict(X_test))\n",
    "\n",
    "        train_accuracies.append(train_accuracy)\n",
    "        test_accuracies.append(test_accuracy)\n",
    "        training_times.append(estimator_time)\n",
    "\n",
    "        # Вывод информации о прогрессе\n",
    "        elapsed_time = time.time() - start_time\n",
    "        print(f'Эпоха {n_estimators:<3}/100 - Время: {elapsed_time:.2f} секунд - '\n",
    "          f'Точность на обучающей выборке: {train_accuracy:.4f} - '\n",
    "          f'Точность на тестовой выборке: {test_accuracy:.4f}')\n",
    "    i += 1"
   ]
  },
  {
   "cell_type": "code",
   "execution_count": null,
   "metadata": {},
   "outputs": [],
   "source": [
    "# Построим графики\n",
    "plt.figure(figsize=(15, 10))\n",
    "\n",
    "# График 1: Обучающая и тестовая точность\n",
    "plt.subplot(3, 1, 1)\n",
    "plt.plot(range(1, 101), train_accuracies, label='Обучающая точность', color='blue')\n",
    "plt.plot(range(1, 101), test_accuracies, label='Тестовая точность', color='orange')\n",
    "plt.xlim(1, 100)\n",
    "plt.ylim(0, 1)\n",
    "plt.xlabel('Количество деревьев')\n",
    "plt.ylabel('Точность')\n",
    "plt.title('Точность модели в зависимости от количества деревьев')\n",
    "plt.legend()\n",
    "plt.grid()\n",
    "\n",
    "# График 2: Время обучения\n",
    "plt.subplot(3, 1, 2)\n",
    "plt.plot(range(1, 101), training_times, label='Время обучения (сек)', color='green')\n",
    "plt.xlim(1, 100)\n",
    "plt.xlabel('Количество деревьев')\n",
    "plt.ylabel('Время (сек)')\n",
    "plt.title('Время обучения модели в зависимости от количества деревьев')\n",
    "plt.legend()\n",
    "plt.grid()\n",
    "\n",
    "# График 3: Разница между обучающей и тестовой точностью\n",
    "plt.subplot(3, 1, 3)\n",
    "plt.plot(range(1, 101), np.array(train_accuracies) - np.array(test_accuracies), label='Разница точности', color='red')\n",
    "plt.xlim(1, 100)\n",
    "plt.xlabel('Количество деревьев')\n",
    "plt.ylabel('Разница точности')\n",
    "plt.title('Разница между обучающей и тестовой точностью')\n",
    "plt.axhline(0, color='black', lw=0.5, ls='--')\n",
    "plt.legend()\n",
    "plt.grid()\n",
    "\n",
    "plt.tight_layout()\n",
    "plt.show()\n",
    "\n",
    "print(\"Обучение завершено!\")"
   ]
  }
 ],
 "metadata": {
  "kernelspec": {
   "display_name": "Python 3",
   "language": "python",
   "name": "python3"
  },
  "language_info": {
   "codemirror_mode": {
    "name": "ipython",
    "version": 3
   },
   "file_extension": ".py",
   "mimetype": "text/x-python",
   "name": "python",
   "nbconvert_exporter": "python",
   "pygments_lexer": "ipython3",
   "version": "3.12.2"
  }
 },
 "nbformat": 4,
 "nbformat_minor": 2
}
